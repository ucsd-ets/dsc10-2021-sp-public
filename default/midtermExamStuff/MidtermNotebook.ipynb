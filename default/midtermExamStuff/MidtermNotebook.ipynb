{
 "cells": [
  {
   "cell_type": "markdown",
   "metadata": {},
   "source": [
    "## Midterm exam notebook\n",
    "\n",
    "You will use this notebook as both reference and a scratch-pad to work through the problem in your exam. Be sure to closely read any instructions.\n",
    "\n",
    "\"streaming\" is a dataset from the streaming service netflix detailing shows and movive with their release date, country of origin, rating, etc. \"tastetesting\" is explained below.\n",
    "\n",
    "## Taste test\n",
    "Scientists are interested in the effect of compound \"a\" on food flavor. They conducted an experiment in which they added a randomly determined amount of compound \"a\" to 3 different foods. Each subject tasted all three foods with the same amount of compound \"a\" added. Each subject they rated how much they liked each food."
   ]
  },
  {
   "cell_type": "code",
   "execution_count": 6,
   "metadata": {},
   "outputs": [],
   "source": [
    "# Run this code first!\n",
    "import babypandas as bpd\n",
    "import numpy as np\n",
    "\n",
    "%matplotlib inline\n",
    "import matplotlib.pyplot as plt\n",
    "import warnings; warnings.simplefilter('ignore')\n",
    "\n",
    "plt.style.use('fivethirtyeight')\n",
    "\n",
    "streaming = bpd.read_csv('data/netflix_titles.csv').set_index(\"show_id\")\n",
    "tastetesting = bpd.read_csv('data/tasting.csv')"
   ]
  },
  {
   "cell_type": "markdown",
   "metadata": {},
   "source": []
  },
  {
   "cell_type": "code",
   "execution_count": null,
   "metadata": {},
   "outputs": [],
   "source": []
  }
 ],
 "metadata": {
  "kernelspec": {
   "display_name": "Python 3",
   "language": "python",
   "name": "python3"
  },
  "language_info": {
   "codemirror_mode": {
    "name": "ipython",
    "version": 3
   },
   "file_extension": ".py",
   "mimetype": "text/x-python",
   "name": "python",
   "nbconvert_exporter": "python",
   "pygments_lexer": "ipython3",
   "version": "3.8.3"
  }
 },
 "nbformat": 4,
 "nbformat_minor": 4
}
