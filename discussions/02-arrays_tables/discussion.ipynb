{
 "cells": [
  {
   "cell_type": "markdown",
   "metadata": {},
   "source": [
    "# Discussion 02: Arrays and Tables\n",
    "\n",
    "Welcome to Discussion 02! At the end of last week's discussion, we got a sneak peak of arrays and tables.\n",
    "\n",
    "This week, we will go back over these data structures and work with the same datasets we saw last time. \n",
    "\n",
    "You can find additional help on these topics in the 'Arrays' and 'DataFrames' sections of the course [textbook](https://eldridgejm.github.io/dive_into_data_science/front.html).\n",
    "\n",
    "[Here](https://ucsd-ets.github.io/dsc10-2020-fa/published/default/reference/babypandas-reference.pdf) is a pointer to that reference sheet we saw last time.\n",
    "\n",
    "<img src=\"data/panda_basketball.jpg\" width=\"600\">"
   ]
  },
  {
   "cell_type": "code",
   "execution_count": 2,
   "metadata": {},
   "outputs": [],
   "source": [
    "# please don't change this cell, but do make sure to run it\n",
    "import babypandas as bpd\n",
    "import matplotlib.pyplot as plt\n",
    "import numpy as np\n",
    "import otter\n",
    "grader = otter.Notebook()"
   ]
  },
  {
   "cell_type": "markdown",
   "metadata": {},
   "source": [
    "## Part 1 : Arrays vs. Lists\n",
    "\n",
    "---\n",
    "Arrays and lists are helpful when we want to store and manipulate **sequences** of data\n",
    "\n",
    "##### Lists\n",
    "- Built into Python\n",
    "- Friendly with different data types\n",
    "- EXTREMELY SLOW\n",
    "\n",
    "##### Arrays\n",
    "- Not built inot Python directly (that's why we have NumPy!)\n",
    "- Elements must be the same data type\n",
    "- MUCH FASTER\n"
   ]
  },
  {
   "cell_type": "markdown",
   "metadata": {},
   "source": [
    "## Array Problems (part 1)"
   ]
  },
  {
   "cell_type": "code",
   "execution_count": 3,
   "metadata": {},
   "outputs": [],
   "source": [
    "some_array = np.array([6, 1, 9, 5, 2, 3, 4, 3, 2, 4])"
   ]
  },
  {
   "cell_type": "markdown",
   "metadata": {
    "deletable": false,
    "editable": false
   },
   "source": [
    "**Question 1** : How many elements are in ```some_array```?\n",
    "\n",
    "<!--\n",
    "BEGIN QUESTION\n",
    "name: q11\n",
    "-->"
   ]
  },
  {
   "cell_type": "code",
   "execution_count": 4,
   "metadata": {},
   "outputs": [],
   "source": [
    "num_elems = ...\n",
    "num_elems"
   ]
  },
  {
   "cell_type": "code",
   "execution_count": null,
   "metadata": {
    "deletable": false,
    "editable": false
   },
   "outputs": [],
   "source": [
    "grader.check(\"q11\")"
   ]
  },
  {
   "cell_type": "markdown",
   "metadata": {
    "deletable": false,
    "editable": false
   },
   "source": [
    "**Question 2** : How do we access the *first* element of ```some_array```?\n",
    "\n",
    "<!--\n",
    "BEGIN QUESTION\n",
    "name: q12\n",
    "-->"
   ]
  },
  {
   "cell_type": "code",
   "execution_count": 6,
   "metadata": {},
   "outputs": [],
   "source": [
    "first_elem = ...\n",
    "first_elem"
   ]
  },
  {
   "cell_type": "code",
   "execution_count": null,
   "metadata": {
    "deletable": false,
    "editable": false
   },
   "outputs": [],
   "source": [
    "grader.check(\"q12\")"
   ]
  },
  {
   "cell_type": "markdown",
   "metadata": {
    "deletable": false,
    "editable": false
   },
   "source": [
    "**Question 3** : How do we access the *last* element of ```some_array```?\n",
    "\n",
    "<!--\n",
    "BEGIN QUESTION\n",
    "name: q13\n",
    "-->"
   ]
  },
  {
   "cell_type": "code",
   "execution_count": 8,
   "metadata": {},
   "outputs": [],
   "source": [
    "last_elem = ...\n",
    "last_elem"
   ]
  },
  {
   "cell_type": "code",
   "execution_count": null,
   "metadata": {
    "deletable": false,
    "editable": false
   },
   "outputs": [],
   "source": [
    "grader.check(\"q13\")"
   ]
  },
  {
   "cell_type": "code",
   "execution_count": 10,
   "metadata": {},
   "outputs": [],
   "source": []
  },
  {
   "cell_type": "markdown",
   "metadata": {},
   "source": [
    "**Question 4** : What happens when we do ```some_array[-2]```?"
   ]
  },
  {
   "cell_type": "code",
   "execution_count": 11,
   "metadata": {},
   "outputs": [],
   "source": [
    "some_array"
   ]
  },
  {
   "cell_type": "code",
   "execution_count": 12,
   "metadata": {},
   "outputs": [],
   "source": [
    "some_array[-2]"
   ]
  },
  {
   "cell_type": "code",
   "execution_count": 13,
   "metadata": {},
   "outputs": [],
   "source": []
  },
  {
   "cell_type": "markdown",
   "metadata": {
    "deletable": false,
    "editable": false
   },
   "source": [
    "**Question 5 - BONUS** : How do we make a new array that contains only the first 5 elements from ```some_array```? \n",
    "\n",
    "<!--\n",
    "BEGIN QUESTION\n",
    "name: q15\n",
    "-->"
   ]
  },
  {
   "cell_type": "code",
   "execution_count": 14,
   "metadata": {},
   "outputs": [],
   "source": [
    "first_five = ...\n",
    "first_five"
   ]
  },
  {
   "cell_type": "code",
   "execution_count": null,
   "metadata": {
    "deletable": false,
    "editable": false
   },
   "outputs": [],
   "source": [
    "grader.check(\"q15\")"
   ]
  },
  {
   "cell_type": "code",
   "execution_count": 26,
   "metadata": {},
   "outputs": [],
   "source": [
    "array_1 = np.array([1,2,3,4,5,6,7,8])\n",
    "array_2 = np.array([6,7,8,9,10,11,12,13])"
   ]
  },
  {
   "cell_type": "markdown",
   "metadata": {
    "deletable": false,
    "editable": false
   },
   "source": [
    "**Question 6** : How to we get the element-wise sum of ```some_array``` and ```some_array_2```?\n",
    "\n",
    "<!--\n",
    "BEGIN QUESTION\n",
    "name: q16\n",
    "-->"
   ]
  },
  {
   "cell_type": "code",
   "execution_count": 27,
   "metadata": {},
   "outputs": [],
   "source": [
    "elem_wise_sum = ...\n",
    "elem_wise_sum"
   ]
  },
  {
   "cell_type": "code",
   "execution_count": null,
   "metadata": {
    "deletable": false,
    "editable": false
   },
   "outputs": [],
   "source": [
    "grader.check(\"q16\")"
   ]
  },
  {
   "cell_type": "markdown",
   "metadata": {
    "deletable": false,
    "editable": false
   },
   "source": [
    "**Question 7** : How to we get the max element from ```some_array```?\n",
    "\n",
    "<!--\n",
    "BEGIN QUESTION\n",
    "name: q17\n",
    "-->"
   ]
  },
  {
   "cell_type": "code",
   "execution_count": 29,
   "metadata": {},
   "outputs": [],
   "source": [
    "max_elem = ...\n",
    "max_elem"
   ]
  },
  {
   "cell_type": "code",
   "execution_count": null,
   "metadata": {
    "deletable": false,
    "editable": false
   },
   "outputs": [],
   "source": [
    "grader.check(\"q17\")"
   ]
  },
  {
   "cell_type": "code",
   "execution_count": 31,
   "metadata": {},
   "outputs": [],
   "source": []
  },
  {
   "cell_type": "markdown",
   "metadata": {
    "deletable": false,
    "editable": false
   },
   "source": [
    "**Question 8 - BONUS** : How to we get the average of first 6 elements from ```some_array```?\n",
    "\n",
    "<!--\n",
    "BEGIN QUESTION\n",
    "name: q18\n",
    "-->"
   ]
  },
  {
   "cell_type": "code",
   "execution_count": 32,
   "metadata": {},
   "outputs": [],
   "source": [
    "first_six_average = ...\n",
    "first_six_average"
   ]
  },
  {
   "cell_type": "code",
   "execution_count": null,
   "metadata": {
    "deletable": false,
    "editable": false
   },
   "outputs": [],
   "source": [
    "grader.check(\"q18\")"
   ]
  },
  {
   "cell_type": "markdown",
   "metadata": {
    "deletable": false,
    "editable": false
   },
   "source": [
    "**Question 9** : How to we make an array with every integer under 13\n",
    "\n",
    "<!--\n",
    "BEGIN QUESTION\n",
    "name: q19\n",
    "-->"
   ]
  },
  {
   "cell_type": "code",
   "execution_count": 34,
   "metadata": {},
   "outputs": [],
   "source": [
    "under_13 = ...\n",
    "under_13"
   ]
  },
  {
   "cell_type": "code",
   "execution_count": null,
   "metadata": {
    "deletable": false,
    "editable": false
   },
   "outputs": [],
   "source": [
    "grader.check(\"q19\")"
   ]
  },
  {
   "cell_type": "markdown",
   "metadata": {
    "deletable": false,
    "editable": false
   },
   "source": [
    "**Question 10** : How do we make an array of [6,9,12,15,18,21]\n",
    "\n",
    "<!--\n",
    "BEGIN QUESTION\n",
    "name: q110\n",
    "-->"
   ]
  },
  {
   "cell_type": "code",
   "execution_count": 36,
   "metadata": {},
   "outputs": [],
   "source": [
    "threes_array = ...\n",
    "threes_array"
   ]
  },
  {
   "cell_type": "code",
   "execution_count": null,
   "metadata": {
    "deletable": false,
    "editable": false
   },
   "outputs": [],
   "source": [
    "grader.check(\"q110\")"
   ]
  },
  {
   "cell_type": "markdown",
   "metadata": {
    "deletable": false,
    "editable": false
   },
   "source": [
    "**Question 11** : How do we make an array of 2 to the power of from 2 to 6, aka [4,8,16,32,64]?\n",
    "\n",
    "<!--\n",
    "BEGIN QUESTION\n",
    "name: q111\n",
    "-->"
   ]
  },
  {
   "cell_type": "code",
   "execution_count": 38,
   "metadata": {},
   "outputs": [],
   "source": [
    "powers_of_two = ...\n",
    "powers_of_two"
   ]
  },
  {
   "cell_type": "code",
   "execution_count": null,
   "metadata": {
    "deletable": false,
    "editable": false
   },
   "outputs": [],
   "source": [
    "grader.check(\"q111\")"
   ]
  },
  {
   "cell_type": "markdown",
   "metadata": {},
   "source": [
    "**Remember!** NumPy Arrays will fit all data to the same type:"
   ]
  },
  {
   "cell_type": "code",
   "execution_count": 40,
   "metadata": {},
   "outputs": [],
   "source": [
    "random_array = np.array([45,\"hello\", True, 987, 34.5, \"Yes\"])\n",
    "random_array"
   ]
  },
  {
   "cell_type": "code",
   "execution_count": 41,
   "metadata": {},
   "outputs": [],
   "source": [
    "#But Lists will not:\n",
    "random_list = ['hello', 'there', 'buddy', 43, True, 38.9, 'DSC 10']\n",
    "random_list"
   ]
  },
  {
   "cell_type": "code",
   "execution_count": 42,
   "metadata": {},
   "outputs": [],
   "source": [
    "print(type(random_array))\n",
    "print(type(random_list))"
   ]
  },
  {
   "cell_type": "markdown",
   "metadata": {},
   "source": [
    "## Part 2 : Tables\n",
    "\n",
    "---\n",
    "Tables are a slightly more complex data structure that are helpful when we want to store and manipulate larger datasets with lots of information. We often refer to tables as \"data frames\" and these terms are interchangable in this class.\n",
    "\n",
    "**Rows** are labeled arrays that correspond to different entries or samples in the table. (The labels are typically *unique* and easily identifiable names.)\n",
    "\n",
    "**Columns** are labeled arrays that correspond to the different pieces of information we care about. (The labels are the titles of each column.)\n",
    "\n",
    "The **Index** of a table is an array completely separate from the columns and contains all of the row labels.\n",
    "\n",
    "A **Series** is a labeled array that corresponds to a single column from the table.\n",
    "\n",
    "##### Important note\n",
    "To get a particular element from a table, in this class, we'll always ```.get()``` the column label, then ```.loc[]``` the row label.\n"
   ]
  },
  {
   "cell_type": "markdown",
   "metadata": {},
   "source": [
    "## Table Problems (Part 2)"
   ]
  },
  {
   "cell_type": "markdown",
   "metadata": {},
   "source": [
    "# Ultimate Halloween Candy Showdown (remember this?)\n",
    "---\n",
    "269,000 user submitted winners of head to head candy matchups"
   ]
  },
  {
   "cell_type": "markdown",
   "metadata": {},
   "source": [
    "### Read from CSV and Set the index"
   ]
  },
  {
   "cell_type": "code",
   "execution_count": 43,
   "metadata": {},
   "outputs": [],
   "source": [
    "candy = bpd.read_csv(\"data/candy.csv\")\n",
    "candy = candy.set_index('competitorname')\n",
    "candy"
   ]
  },
  {
   "cell_type": "code",
   "execution_count": 44,
   "metadata": {},
   "outputs": [],
   "source": [
    "candy.get(\"sugarpercent\")"
   ]
  },
  {
   "cell_type": "markdown",
   "metadata": {
    "deletable": false,
    "editable": false
   },
   "source": [
    "## Q2.1\n",
    "\n",
    "Store the competitor names of the top 5 most popular candies (winpercent) in an array\n",
    "\n",
    "<!--\n",
    "BEGIN QUESTION\n",
    "name: q21\n",
    "-->"
   ]
  },
  {
   "cell_type": "code",
   "execution_count": 78,
   "metadata": {},
   "outputs": [],
   "source": [
    "top_five = ...\n",
    "top_five"
   ]
  },
  {
   "cell_type": "code",
   "execution_count": null,
   "metadata": {
    "deletable": false,
    "editable": false
   },
   "outputs": [],
   "source": [
    "grader.check(\"q21\")"
   ]
  },
  {
   "cell_type": "markdown",
   "metadata": {
    "deletable": false,
    "editable": false
   },
   "source": [
    "## Q2.2\n",
    "\n",
    "How many candies have caramel but not chocolate?\n",
    "\n",
    "<!--\n",
    "BEGIN QUESTION\n",
    "name: q22\n",
    "-->"
   ]
  },
  {
   "cell_type": "code",
   "execution_count": 80,
   "metadata": {
    "scrolled": true
   },
   "outputs": [],
   "source": [
    "candies_with_caramel_not_choco = ...\n",
    "candies_with_caramel_not_choco"
   ]
  },
  {
   "cell_type": "code",
   "execution_count": null,
   "metadata": {
    "deletable": false,
    "editable": false
   },
   "outputs": [],
   "source": [
    "grader.check(\"q22\")"
   ]
  },
  {
   "cell_type": "markdown",
   "metadata": {
    "deletable": false,
    "editable": false
   },
   "source": [
    "## Q2.3\n",
    "\n",
    "What is the name of the one candy that has the word \"candy\" as part of its name? \n",
    "\n",
    "<!--\n",
    "BEGIN QUESTION\n",
    "name: q23\n",
    "-->"
   ]
  },
  {
   "cell_type": "code",
   "execution_count": 49,
   "metadata": {},
   "outputs": [],
   "source": [
    "candy_name = ...\n",
    "candy_name"
   ]
  },
  {
   "cell_type": "code",
   "execution_count": null,
   "metadata": {
    "deletable": false,
    "editable": false
   },
   "outputs": [],
   "source": [
    "grader.check(\"q23\")"
   ]
  },
  {
   "cell_type": "markdown",
   "metadata": {
    "deletable": false,
    "editable": false
   },
   "source": [
    "## Q2.4\n",
    "Do chococlate candies or non-chocolate candies have a higher win percentage?\n",
    "Your answer should be 1 for chocolate candies or 0 for non-chocolate candies.\n",
    "\n",
    "<!--\n",
    "BEGIN QUESTION\n",
    "name: q24\n",
    "\n",
    "-->"
   ]
  },
  {
   "cell_type": "code",
   "execution_count": 51,
   "metadata": {},
   "outputs": [],
   "source": [
    "higher_winpercent_choc = ...\n",
    "higher_winpercent_choc"
   ]
  },
  {
   "cell_type": "code",
   "execution_count": null,
   "metadata": {
    "deletable": false,
    "editable": false
   },
   "outputs": [],
   "source": [
    "grader.check(\"q24\")"
   ]
  },
  {
   "cell_type": "markdown",
   "metadata": {
    "deletable": false,
    "editable": false
   },
   "source": [
    "## Q2.5\n",
    "\n",
    "Do chocolate candies have more hard candies or non-hard candies.\n",
    "Your answer should be 1 for hard candies or 0 for non-hard candies.\n",
    "\n",
    "<!--\n",
    "BEGIN QUESTION\n",
    "name: q25\n",
    "-->"
   ]
  },
  {
   "cell_type": "code",
   "execution_count": 53,
   "metadata": {},
   "outputs": [],
   "source": [
    "more_hard_or_soft = ...\n",
    "more_hard_or_soft"
   ]
  },
  {
   "cell_type": "code",
   "execution_count": null,
   "metadata": {
    "deletable": false,
    "editable": false
   },
   "outputs": [],
   "source": [
    "grader.check(\"q25\")"
   ]
  },
  {
   "cell_type": "code",
   "execution_count": 81,
   "metadata": {},
   "outputs": [],
   "source": [
    "# recall df\n",
    "candy"
   ]
  },
  {
   "cell_type": "markdown",
   "metadata": {
    "deletable": false,
    "editable": false
   },
   "source": [
    "## Q2.6 - BONUS\n",
    "\n",
    "Which candy has the most 1s in across all binary variables (Hint: Use ```.apply()```)\n",
    "\n",
    "<!--\n",
    "BEGIN QUESTION\n",
    "name: q26\n",
    "-->"
   ]
  },
  {
   "cell_type": "code",
   "execution_count": 57,
   "metadata": {},
   "outputs": [],
   "source": [
    "competitor_name = ...\n",
    "competitor_name"
   ]
  },
  {
   "cell_type": "code",
   "execution_count": null,
   "metadata": {
    "deletable": false,
    "editable": false
   },
   "outputs": [],
   "source": [
    "grader.check(\"q26\")"
   ]
  },
  {
   "cell_type": "code",
   "execution_count": 59,
   "metadata": {},
   "outputs": [],
   "source": [
    "grader.check_all()"
   ]
  },
  {
   "cell_type": "markdown",
   "metadata": {},
   "source": [
    "# Supplemental Reference Sheet Examples\n",
    "\n",
    "**See remote discussion recording for details/explanation**"
   ]
  },
  {
   "cell_type": "markdown",
   "metadata": {},
   "source": [
    "## More fun with Tables"
   ]
  },
  {
   "cell_type": "code",
   "execution_count": 60,
   "metadata": {},
   "outputs": [],
   "source": [
    "# recall the full data frame we've been working with\n",
    "candy"
   ]
  },
  {
   "cell_type": "markdown",
   "metadata": {},
   "source": [
    "# Building and Organizing DataFrames\n",
    "\n",
    "add/replace a column : ```df.assign(Name_of_Column=column_data)```\n",
    "\n",
    "drops a single column :  ```df.drop(columns=column_name)```\n",
    "\n",
    "drops every column in a list of columns : ```df.drop(columns=[col_1_name, ..., col_k_name])```\n",
    "\n",
    "move the index to a column : ```df.reset_index()```\n",
    "\n",
    "move the column to the index : ```df.set_index(column_name)```\n",
    "\n",
    "sort entire DataFrame by values in a column : ```df.sort_values(by=column_name)```\n"
   ]
  },
  {
   "cell_type": "code",
   "execution_count": 61,
   "metadata": {},
   "outputs": [],
   "source": [
    "# assign\n",
    "\n",
    "new_col_data = np.arange(candy.shape[0])\n",
    "candy.assign(new_col=new_col_data)"
   ]
  },
  {
   "cell_type": "code",
   "execution_count": 62,
   "metadata": {},
   "outputs": [],
   "source": [
    "# drop (single)\n",
    "\n",
    "candy.drop(columns='chocolate')"
   ]
  },
  {
   "cell_type": "code",
   "execution_count": 63,
   "metadata": {},
   "outputs": [],
   "source": [
    "# drop (multiple)\n",
    "\n",
    "candy.drop(columns=['chocolate','fruity','caramel','peanutyalmondy','nougat'])"
   ]
  },
  {
   "cell_type": "code",
   "execution_count": 64,
   "metadata": {},
   "outputs": [],
   "source": [
    "# reset index\n",
    "\n",
    "candy = candy.reset_index()\n",
    "candy"
   ]
  },
  {
   "cell_type": "code",
   "execution_count": 65,
   "metadata": {},
   "outputs": [],
   "source": [
    "# set index\n",
    "\n",
    "candy = candy.set_index('competitorname')\n",
    "candy"
   ]
  },
  {
   "cell_type": "code",
   "execution_count": 66,
   "metadata": {},
   "outputs": [],
   "source": [
    "# sort\n",
    "\n",
    "candy.sort_values(by=\"winpercent\")"
   ]
  },
  {
   "cell_type": "markdown",
   "metadata": {},
   "source": [
    "# Retrieving Information\n",
    "\n",
    "## DataFrame methods\n",
    "\n",
    "**Returns a Series**\n",
    "\n",
    "retrieve column : ```df.get(column_name)```\n",
    "\n",
    "**Returns a DataFrame**\n",
    "\n",
    "retrieve several columns : ```df.get([col_1_name, ..., col_k_name])```\n",
    "\n",
    "select row(s) by index position : ```df.take([pos_1, ..., pos_k])```\n",
    "\n",
    "select row(s) using Boolean array : ```df[bool_array]```\n",
    "\n",
    "**Returns other type**\n",
    "\n",
    "number of rows : ```df.shape[0]``` **number**\n",
    "\n",
    "number of columns : ```df.shape[1]``` **number**\n",
    "\n",
    "retrieve element in the index by its position : ```df.index[position]``` **index name**\n",
    "\n",
    "## Series methods\n",
    "\n",
    "**Returns an element**\n",
    "\n",
    "retrieve an element by the *row label* : ```ser.loc[label]```\n",
    "\n",
    "retrieve an element by its *index position* : ```ser.iloc[position]```"
   ]
  },
  {
   "cell_type": "code",
   "execution_count": 67,
   "metadata": {},
   "outputs": [],
   "source": [
    "# rows \n",
    "\n",
    "candy.shape[0]"
   ]
  },
  {
   "cell_type": "code",
   "execution_count": 70,
   "metadata": {},
   "outputs": [],
   "source": [
    "# columns\n",
    "\n",
    "candy.shape[1]"
   ]
  },
  {
   "cell_type": "code",
   "execution_count": 71,
   "metadata": {},
   "outputs": [],
   "source": [
    "# get \n",
    "\n",
    "candy.get(\"chocolate\") # Series"
   ]
  },
  {
   "cell_type": "code",
   "execution_count": 72,
   "metadata": {},
   "outputs": [],
   "source": [
    "# get \n",
    "\n",
    "candy.get([\"chocolate\", \"caramel\"]) # DataFrame"
   ]
  },
  {
   "cell_type": "code",
   "execution_count": 73,
   "metadata": {},
   "outputs": [],
   "source": [
    "# take\n",
    "\n",
    "candy.take([0])"
   ]
  },
  {
   "cell_type": "code",
   "execution_count": 74,
   "metadata": {},
   "outputs": [],
   "source": [
    "# take\n",
    "\n",
    "candy.take(np.arange(10))"
   ]
  },
  {
   "cell_type": "code",
   "execution_count": 75,
   "metadata": {},
   "outputs": [],
   "source": [
    "# bool access\n",
    "\n",
    "all_true = np.ones(candy.shape[0]).astype(bool) # must match number of rows in df!\n",
    "print(all_true)\n",
    "\n",
    "some_true = np.random.randint(2, size=candy.shape[0]).astype(bool) # must match number of rows in df!\n",
    "print(some_true)\n",
    "\n",
    "candy[some_true]"
   ]
  },
  {
   "cell_type": "code",
   "execution_count": 76,
   "metadata": {},
   "outputs": [],
   "source": [
    "# series by label\n",
    "\n",
    "win_series = candy.get(\"winpercent\")\n",
    "\n",
    "win_series.loc[\"Twizzlers\"]"
   ]
  },
  {
   "cell_type": "code",
   "execution_count": 77,
   "metadata": {},
   "outputs": [],
   "source": [
    "# series by position\n",
    "\n",
    "win_series.iloc[80]"
   ]
  },
  {
   "cell_type": "code",
   "execution_count": null,
   "metadata": {},
   "outputs": [],
   "source": []
  }
 ],
 "metadata": {
  "kernelspec": {
   "display_name": "Python 3",
   "language": "python",
   "name": "python3"
  },
  "language_info": {
   "codemirror_mode": {
    "name": "ipython",
    "version": 3
   },
   "file_extension": ".py",
   "mimetype": "text/x-python",
   "name": "python",
   "nbconvert_exporter": "python",
   "pygments_lexer": "ipython3",
   "version": "3.7.6"
  }
 },
 "nbformat": 4,
 "nbformat_minor": 1
}
