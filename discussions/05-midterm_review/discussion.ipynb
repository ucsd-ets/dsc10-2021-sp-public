{
 "cells": [
  {
   "cell_type": "markdown",
   "metadata": {},
   "source": [
    "# MIDTERM REVIEW\n",
    "\n",
    "\n",
    "\n",
    "## Released Tuesday, May 4 at 11:59pm PST\n",
    "## Due Wednesday, May 5 at 11:59pm PST\n",
    "Exam specs : \n",
    "- Start anytime within the window (but don't start too late, or you won't be able to use all of your time)\n",
    "- Once started, you'll have 1.5 hours to finish\n",
    "- Open-book, open-notes, open-Internet (BUT NO STUDENT COLLABORATION)\n",
    "\n",
    "Best way to study :\n",
    "- Project\n",
    "- Old homeworks, labs, discussions\n",
    "- This discussion\n",
    "\n",
    "Here are links to the course [textbook](https://eldridgejm.github.io/dive_into_data_science/front.html) or the helpful [reference sheet](https://ucsd-ets.github.io/dsc10-2020-fa/published/default/reference/babypandas-reference.pdf) we often use.\n",
    "\n",
    "<img src=\"data/panda_relax.jpg\" width=\"500\">"
   ]
  },
  {
   "cell_type": "code",
   "execution_count": 1,
   "metadata": {},
   "outputs": [],
   "source": [
    "import babypandas as bpd\n",
    "import numpy as np"
   ]
  },
  {
   "cell_type": "code",
   "execution_count": 2,
   "metadata": {},
   "outputs": [],
   "source": [
    "df = bpd.read_csv('data/player_data.csv')\n",
    "df"
   ]
  },
  {
   "cell_type": "markdown",
   "metadata": {},
   "source": [
    "---"
   ]
  },
  {
   "cell_type": "markdown",
   "metadata": {},
   "source": [
    "# Top Ten Table Patterns\n",
    "\n",
    "## And some variations"
   ]
  },
  {
   "cell_type": "markdown",
   "metadata": {},
   "source": [
    "Let's look at the most common patterns we have been using on tables. They are quite simple when you have a computer. \n",
    "\n",
    "However, for the exam, you really need to get familiar with them.\n",
    "\n",
    "Best way to study: Study by writing code with pen and paper. Learn to check your code for logical and syntax errors, without the help of Python!"
   ]
  },
  {
   "cell_type": "markdown",
   "metadata": {},
   "source": [
    "# 0) Get and Drop Columns\n",
    "\n",
    "**Pattern**: `df.get(column_name)`\n",
    "\n",
    "**Pattern**: `df.drop(columns = column_name)`\n",
    "\n",
    "Where column_name is a string"
   ]
  },
  {
   "cell_type": "code",
   "execution_count": 3,
   "metadata": {},
   "outputs": [],
   "source": [
    "df.get('Points')"
   ]
  },
  {
   "cell_type": "code",
   "execution_count": 4,
   "metadata": {},
   "outputs": [],
   "source": [
    "df.get('Age')"
   ]
  },
  {
   "cell_type": "markdown",
   "metadata": {},
   "source": [
    "### Drop column \"Age\""
   ]
  },
  {
   "cell_type": "code",
   "execution_count": 5,
   "metadata": {},
   "outputs": [],
   "source": [
    "df_modified = df.drop(\"Age\")"
   ]
  },
  {
   "cell_type": "code",
   "execution_count": 6,
   "metadata": {},
   "outputs": [],
   "source": [
    "help(bpd.DataFrame.drop)"
   ]
  },
  {
   "cell_type": "code",
   "execution_count": 7,
   "metadata": {},
   "outputs": [],
   "source": [
    "df_modified = df.drop(columns = \"Age\")\n",
    "df_modified"
   ]
  },
  {
   "cell_type": "code",
   "execution_count": 8,
   "metadata": {},
   "outputs": [],
   "source": [
    "df_modified = df.drop(columns = [\"Age\", \"Team\", \"Games\"])\n",
    "df_modified"
   ]
  },
  {
   "cell_type": "markdown",
   "metadata": {},
   "source": [
    "# 1) Get something by its label & index\n",
    "\n",
    "**Example**: how many points did LeBron James have?\n",
    "\n",
    "**Pattern**: `df.get(column_name).loc[row_label].`"
   ]
  },
  {
   "cell_type": "markdown",
   "metadata": {},
   "source": [
    "### Getting data by its label"
   ]
  },
  {
   "cell_type": "code",
   "execution_count": 9,
   "metadata": {},
   "outputs": [],
   "source": [
    "df = df.set_index('Name')"
   ]
  },
  {
   "cell_type": "markdown",
   "metadata": {},
   "source": [
    "### Get the points of the player: LeBron James."
   ]
  },
  {
   "cell_type": "code",
   "execution_count": 10,
   "metadata": {},
   "outputs": [],
   "source": [
    "df.get('Points').loc['LeBron James']"
   ]
  },
  {
   "cell_type": "markdown",
   "metadata": {},
   "source": [
    "### Get the Games of the player: Chris Paul."
   ]
  },
  {
   "cell_type": "code",
   "execution_count": 11,
   "metadata": {},
   "outputs": [],
   "source": [
    "df.get('Games').loc['Chris Paul']"
   ]
  },
  {
   "cell_type": "markdown",
   "metadata": {},
   "source": [
    "### Getting Multiple datapoints by their labels"
   ]
  },
  {
   "cell_type": "markdown",
   "metadata": {},
   "source": [
    "Get the points of players James Harden, Stephen Curry, Adreian Payne"
   ]
  },
  {
   "cell_type": "code",
   "execution_count": 12,
   "metadata": {},
   "outputs": [],
   "source": [
    "query_players = [\"James Harden\", \"Stephen Curry\", \"Adreian Payne\"]\n",
    "df.get('Points').loc[query_players]"
   ]
  },
  {
   "cell_type": "markdown",
   "metadata": {},
   "source": [
    "# 2) Find the label with the largest/smallest value.\n",
    "\n",
    "**Example**: Player with the most points?\n",
    "\n",
    "**Pattern**: `df.sort_values(by = \"Points\").iloc[-1]`\n",
    "\n",
    "**Pattern**: `df.sort_values(by = \"Points\", ascending = False).iloc[0]`"
   ]
  },
  {
   "cell_type": "markdown",
   "metadata": {},
   "source": [
    "### According to score, get the point and name of best player"
   ]
  },
  {
   "cell_type": "code",
   "execution_count": 13,
   "metadata": {},
   "outputs": [],
   "source": [
    "df.get(\"Points\").sort_values()"
   ]
  },
  {
   "cell_type": "code",
   "execution_count": 14,
   "metadata": {},
   "outputs": [],
   "source": [
    "df = df.sort_values()"
   ]
  },
  {
   "cell_type": "code",
   "execution_count": 15,
   "metadata": {},
   "outputs": [],
   "source": [
    "df = df.sort_values(by = \"Points\") # ascending"
   ]
  },
  {
   "cell_type": "code",
   "execution_count": 16,
   "metadata": {},
   "outputs": [],
   "source": [
    "# Wrong\n",
    "df.get('Points').iloc[0]"
   ]
  },
  {
   "cell_type": "code",
   "execution_count": 17,
   "metadata": {},
   "outputs": [],
   "source": [
    "# Correct\n",
    "df.get('Points').iloc[-1]"
   ]
  },
  {
   "cell_type": "code",
   "execution_count": 18,
   "metadata": {},
   "outputs": [],
   "source": [
    "df.index[-1]"
   ]
  },
  {
   "cell_type": "markdown",
   "metadata": {},
   "source": [
    "### Get the name and age of 5th oldest player"
   ]
  },
  {
   "cell_type": "code",
   "execution_count": 19,
   "metadata": {},
   "outputs": [],
   "source": [
    "df"
   ]
  },
  {
   "cell_type": "code",
   "execution_count": 20,
   "metadata": {},
   "outputs": [],
   "source": [
    "df = df.sort_values(by = \"Age\") # ascending\n",
    "df.get(\"Age\").iloc[-5]"
   ]
  },
  {
   "cell_type": "code",
   "execution_count": 21,
   "metadata": {},
   "outputs": [],
   "source": [
    "df.index[-5]"
   ]
  },
  {
   "cell_type": "markdown",
   "metadata": {},
   "source": [
    "### Get the names & ages of the oldest 5 players"
   ]
  },
  {
   "cell_type": "code",
   "execution_count": 22,
   "metadata": {},
   "outputs": [],
   "source": [
    "query_range = np.arange(0, 4+1)\n",
    "\n",
    "(df\n",
    "    .get('Age')\n",
    "    .sort_values(ascending = False)\n",
    "    .iloc[query_range]\n",
    ")"
   ]
  },
  {
   "cell_type": "markdown",
   "metadata": {},
   "source": [
    "### Get the name of the oldest player, who also has the most number of points."
   ]
  },
  {
   "cell_type": "code",
   "execution_count": 23,
   "metadata": {},
   "outputs": [],
   "source": [
    "df = df.sort_values(by = [\"Age\", \"Points\"]) \n",
    "df"
   ]
  },
  {
   "cell_type": "code",
   "execution_count": 24,
   "metadata": {},
   "outputs": [],
   "source": [
    "df.index[-1]"
   ]
  },
  {
   "cell_type": "markdown",
   "metadata": {},
   "source": [
    "### Get the age and points of this player"
   ]
  },
  {
   "cell_type": "code",
   "execution_count": 25,
   "metadata": {},
   "outputs": [],
   "source": [
    "df.get(\"Age\").iloc[-1]"
   ]
  },
  {
   "cell_type": "code",
   "execution_count": 26,
   "metadata": {},
   "outputs": [],
   "source": [
    "df.get(\"Points\").iloc[-1]"
   ]
  },
  {
   "cell_type": "markdown",
   "metadata": {},
   "source": [
    "---"
   ]
  },
  {
   "cell_type": "markdown",
   "metadata": {},
   "source": [
    "# 3) Compute a statistic for a subset. Filter to get the subset.\n",
    "\n",
    "**Example**: Players info for players with age >= 30\n",
    "\n",
    "**Pattern**:\n",
    "\n",
    "`bool_mask = df.get('Age') >= 30\n",
    "df[bool_mask]\n",
    "`"
   ]
  },
  {
   "cell_type": "markdown",
   "metadata": {},
   "source": [
    "### Return a table containing entries for players with age >= 30"
   ]
  },
  {
   "cell_type": "code",
   "execution_count": 27,
   "metadata": {},
   "outputs": [],
   "source": [
    "bool_mask = df.get('Age') >= 30\n",
    "df[bool_mask]"
   ]
  },
  {
   "cell_type": "markdown",
   "metadata": {},
   "source": [
    "### Get the mean points for players with age >= 30"
   ]
  },
  {
   "cell_type": "code",
   "execution_count": 28,
   "metadata": {},
   "outputs": [],
   "source": [
    "bool_mask = df.get('Age') >= 30\n",
    "df[bool_mask].get('Points').mean()"
   ]
  },
  {
   "cell_type": "markdown",
   "metadata": {},
   "source": [
    "### Calculate the mean of points. Get the mean age of the players, who have scored higher than or equal to the mean points."
   ]
  },
  {
   "cell_type": "code",
   "execution_count": 29,
   "metadata": {},
   "outputs": [],
   "source": [
    "mean_points = df.get('Points').mean()\n",
    "bool_mask = df.get('Points') >= mean_points\n",
    "df[bool_mask].get('Age').mean()"
   ]
  },
  {
   "cell_type": "markdown",
   "metadata": {},
   "source": [
    "# 4) Combining Conditions, Filtering and Getting Statistics\n",
    "\n",
    "**Example**: Players with more than 600 assists and 100 steals\n",
    "\n",
    "**Pattern**:\n",
    "\n",
    "`mask1 = df.get('Assists') > 600\n",
    "mask2 = df.get('Steals') > 100\n",
    "bool_mask = mask1 & mask2\n",
    "df[bool_mask]\n",
    "`\n",
    "\n",
    "**Pattern**: Don't forget the parantheses if you write it like below:\n",
    "\n",
    "`\n",
    "df[(...) & (...) & (...)]\n",
    "df[(df.get('Assists') > 600) & (df.get('Steals') > 100)]\n",
    "`"
   ]
  },
  {
   "cell_type": "markdown",
   "metadata": {},
   "source": [
    "### Filter the table, players who have more than 600 assists and more than 100 steals"
   ]
  },
  {
   "cell_type": "code",
   "execution_count": 30,
   "metadata": {},
   "outputs": [],
   "source": [
    "mask1 = df.get('Assists') > 600\n",
    "mask2 = df.get('Steals') > 100\n",
    "bool_mask = mask1 & mask2\n",
    "df[bool_mask]"
   ]
  },
  {
   "cell_type": "markdown",
   "metadata": {},
   "source": [
    "### How many players have more than 300 rebounds and more than 20 blocks?"
   ]
  },
  {
   "cell_type": "code",
   "execution_count": 31,
   "metadata": {},
   "outputs": [],
   "source": [
    "mask1 = df.get('Rebounds') > 1000\n",
    "mask2 = df.get('Blocks') > 100\n",
    "bool_mask = mask1 & mask2\n",
    "df[bool_mask].shape[0]"
   ]
  },
  {
   "cell_type": "code",
   "execution_count": 32,
   "metadata": {},
   "outputs": [],
   "source": [
    "### Who are these players?"
   ]
  },
  {
   "cell_type": "code",
   "execution_count": 33,
   "metadata": {},
   "outputs": [],
   "source": [
    "bool_mask = mask1 & mask2\n",
    "df[bool_mask].index"
   ]
  },
  {
   "cell_type": "markdown",
   "metadata": {},
   "source": [
    "### Calculate the median age of a subset of the players.\n",
    "\n",
    "This subset includes, the players who scored higher than the mean points, and played more than 40 games."
   ]
  },
  {
   "cell_type": "code",
   "execution_count": 34,
   "metadata": {},
   "outputs": [],
   "source": [
    "mean_points = df.get('Points').mean()\n",
    "mask1 = df.get('Points') >= mean_points\n",
    "mask2 = df.get('Games') > 40\n",
    "bool_mask = mask1 & mask2\n",
    "df[bool_mask].get('Age').median()"
   ]
  },
  {
   "cell_type": "markdown",
   "metadata": {},
   "source": [
    "# 5) Compute statistics for a group. \n",
    "\n",
    "**Pattern**:\n",
    "\n",
    "`df.groupby(column_name).func()\n",
    "`\n",
    "Where func is the aggrageting function"
   ]
  },
  {
   "cell_type": "markdown",
   "metadata": {},
   "source": [
    "### Get the total score sum for each team."
   ]
  },
  {
   "cell_type": "code",
   "execution_count": 35,
   "metadata": {},
   "outputs": [],
   "source": [
    "df.groupby('Team').sum()"
   ]
  },
  {
   "cell_type": "code",
   "execution_count": 36,
   "metadata": {},
   "outputs": [],
   "source": [
    "df.groupby('Team').sum().get([\"Points\"])"
   ]
  },
  {
   "cell_type": "markdown",
   "metadata": {},
   "source": [
    "### How many players does each team have?"
   ]
  },
  {
   "cell_type": "code",
   "execution_count": 37,
   "metadata": {},
   "outputs": [],
   "source": [
    "df.groupby('Team').count().get([\"Points\"])"
   ]
  },
  {
   "cell_type": "markdown",
   "metadata": {},
   "source": [
    "### Get the mean number of games & mean points for each team"
   ]
  },
  {
   "cell_type": "code",
   "execution_count": 38,
   "metadata": {},
   "outputs": [],
   "source": [
    "df.groupby('Team').mean().get([\"Games\", \"Points\"])"
   ]
  },
  {
   "cell_type": "markdown",
   "metadata": {},
   "source": [
    "### Get the sum of Points per Game for each team"
   ]
  },
  {
   "cell_type": "code",
   "execution_count": 39,
   "metadata": {},
   "outputs": [],
   "source": [
    "new_col = df.get(\"Points\") / df.get(\"Games\")\n",
    "df_new = (df\n",
    "    .assign(Points_Per_Game = new_col)\n",
    "    .sort_values(by = \"Points_Per_Game\",ascending = False)\n",
    ")\n",
    "df_new"
   ]
  },
  {
   "cell_type": "code",
   "execution_count": 40,
   "metadata": {},
   "outputs": [],
   "source": [
    "df_new.groupby(\"Team\").sum().get(\"Points_Per_Game\")"
   ]
  },
  {
   "cell_type": "markdown",
   "metadata": {},
   "source": [
    "# 6) Apply function & Conditionals\n",
    "\n",
    "**Pattern**: `df.get(a_column).apply(a_function)`"
   ]
  },
  {
   "cell_type": "markdown",
   "metadata": {},
   "source": [
    "### Given a full name, write a function that finds how many words it has"
   ]
  },
  {
   "cell_type": "code",
   "execution_count": 41,
   "metadata": {},
   "outputs": [],
   "source": [
    "def find_name_len(string):\n",
    "    \"\"\" Finds how many words the name contains \"\"\"\n",
    "    return len(string.split())"
   ]
  },
  {
   "cell_type": "code",
   "execution_count": 42,
   "metadata": {},
   "outputs": [],
   "source": [
    "find_name_len(\"Frank Lloyd Wright\")"
   ]
  },
  {
   "cell_type": "code",
   "execution_count": 43,
   "metadata": {},
   "outputs": [],
   "source": [
    "find_name_len(\"Tony Montana\")"
   ]
  },
  {
   "cell_type": "code",
   "execution_count": 44,
   "metadata": {},
   "outputs": [],
   "source": [
    "df.reset_index()"
   ]
  },
  {
   "cell_type": "code",
   "execution_count": 45,
   "metadata": {},
   "outputs": [],
   "source": [
    "### Apply your function to the Name column"
   ]
  },
  {
   "cell_type": "code",
   "execution_count": 46,
   "metadata": {},
   "outputs": [],
   "source": [
    "df.reset_index().get(\"Name\").apply(find_name_len)"
   ]
  },
  {
   "cell_type": "markdown",
   "metadata": {},
   "source": [
    "### Find the longest full name (by number of words in it)"
   ]
  },
  {
   "cell_type": "code",
   "execution_count": 47,
   "metadata": {},
   "outputs": [],
   "source": [
    "( df\n",
    " .reset_index()\n",
    " .get(\"Name\")\n",
    " .apply(find_name_len)\n",
    " .max()\n",
    ")"
   ]
  },
  {
   "cell_type": "markdown",
   "metadata": {},
   "source": [
    "### Write a function that assigns an age group to a given age\n",
    "* age less than 20 --> \"young\"\n",
    "* age less than 30 --> \"mid\"\n",
    "* age more than or equal 30 --> \"old\"\n",
    "\n",
    "I am not saying 30 is old! :)"
   ]
  },
  {
   "cell_type": "code",
   "execution_count": 48,
   "metadata": {},
   "outputs": [],
   "source": [
    "def assign_age_group(age):\n",
    "    if age <= 20:\n",
    "        return \"young\"\n",
    "    elif age <= 30:\n",
    "        return \"mid\"\n",
    "    else:\n",
    "        return \"old\""
   ]
  },
  {
   "cell_type": "code",
   "execution_count": 49,
   "metadata": {},
   "outputs": [],
   "source": [
    "assign_age_group(19)"
   ]
  },
  {
   "cell_type": "code",
   "execution_count": 50,
   "metadata": {},
   "outputs": [],
   "source": [
    "assign_age_group(35)"
   ]
  },
  {
   "cell_type": "markdown",
   "metadata": {},
   "source": [
    "### Add a new column to the table, which shows the age group of each player"
   ]
  },
  {
   "cell_type": "code",
   "execution_count": 51,
   "metadata": {},
   "outputs": [],
   "source": [
    "new_col = df.get(\"Age\").apply(assign_age_group)\n",
    "df_new = df.assign(Age_Group = new_col)\n",
    "df_new"
   ]
  },
  {
   "cell_type": "markdown",
   "metadata": {},
   "source": [
    "# 7) Groupby Multiple Columns and look at statistics\n",
    "\n",
    "\n",
    "**Pattern**:\n",
    "\n",
    "`df.groupby([column_name1, column_name2]).func()\n",
    "`\n",
    "Where func is the aggrageting function\n",
    "\n",
    "* There should always be an aggregating function. Otherwise we just get a groupby object.\n",
    "* Don't forget to use reset_index() after grouping"
   ]
  },
  {
   "cell_type": "markdown",
   "metadata": {},
   "source": [
    "### Get the number of players in each team and in each age group"
   ]
  },
  {
   "cell_type": "code",
   "execution_count": 52,
   "metadata": {},
   "outputs": [],
   "source": [
    "df_new.groupby([\"Team\", \"Age_Group\"])"
   ]
  },
  {
   "cell_type": "code",
   "execution_count": 53,
   "metadata": {},
   "outputs": [],
   "source": [
    "(df_new\n",
    " .groupby([\"Team\", \"Age_Group\"])\n",
    " .count()\n",
    ")"
   ]
  },
  {
   "cell_type": "code",
   "execution_count": 54,
   "metadata": {},
   "outputs": [],
   "source": [
    "df_groups = (df_new\n",
    " .groupby([\"Team\", \"Age_Group\"]) # When we groupby o=some columns, those columns become the index\n",
    " .count()\n",
    " .get([\"Team\", \"Age_Group\", \"Games\"])\n",
    ")\n",
    "df_groups"
   ]
  },
  {
   "cell_type": "code",
   "execution_count": 55,
   "metadata": {
    "scrolled": true
   },
   "outputs": [],
   "source": [
    "df_groups = (df_new\n",
    " .groupby([\"Team\", \"Age_Group\"])\n",
    " .count()\n",
    " .reset_index() # critical change here bc Age_Group was the old index!\n",
    " .get([\"Team\", \"Age_Group\", \"Games\"])\n",
    ")\n",
    "df_groups"
   ]
  },
  {
   "cell_type": "markdown",
   "metadata": {},
   "source": [
    "# 8) Rename a column\n",
    "\n",
    "**Pattern**: Store the column to be renamed, assign it to with a new column name, drop the column with the old name.\n",
    "\n",
    "`new_col = df.get(old_column_name)\n",
    "df = (df.assign(new_col_name = new_col).drop(columns = old_column_name))`"
   ]
  },
  {
   "cell_type": "code",
   "execution_count": 56,
   "metadata": {},
   "outputs": [],
   "source": [
    "df_groups"
   ]
  },
  {
   "cell_type": "markdown",
   "metadata": {},
   "source": [
    "### Rename the Games column to Player_Count"
   ]
  },
  {
   "cell_type": "code",
   "execution_count": 57,
   "metadata": {},
   "outputs": [],
   "source": [
    "new_col = df_groups.get(\"Games\")\n",
    "df_groups = (df_groups\n",
    "             .assign(Player_Count = new_col)\n",
    "             .drop(columns = \"Games\")\n",
    "            )\n",
    "df_groups"
   ]
  },
  {
   "cell_type": "markdown",
   "metadata": {},
   "source": [
    "# 9) Get all rows containing a string.\n",
    "\n",
    "**Example** Find all players who have the word \"James\" somewhere in their full name.\n",
    "\n",
    "**Pattern**\n",
    "\n",
    "`bool_mask = df.get(column_of_strings).str.contains('James')\n",
    "df[bool_mask]\n",
    "`"
   ]
  },
  {
   "cell_type": "markdown",
   "metadata": {},
   "source": [
    "### Filter the table so that only players with the substring \"James\" in their full name remain."
   ]
  },
  {
   "cell_type": "code",
   "execution_count": 63,
   "metadata": {},
   "outputs": [],
   "source": [
    "df = df.reset_index()"
   ]
  },
  {
   "cell_type": "code",
   "execution_count": 64,
   "metadata": {},
   "outputs": [],
   "source": [
    "bool_mask = df.get(\"Name\").str.contains(\"James\")\n",
    "df[bool_mask]"
   ]
  },
  {
   "cell_type": "markdown",
   "metadata": {},
   "source": [
    "### Filter the table so that only players with the substring \"gg\" in their full name remain."
   ]
  },
  {
   "cell_type": "code",
   "execution_count": 65,
   "metadata": {},
   "outputs": [],
   "source": [
    "bool_mask = df.get(\"Name\").str.contains(\"gg\")\n",
    "df[bool_mask]"
   ]
  },
  {
   "cell_type": "markdown",
   "metadata": {},
   "source": [
    "### Only players with the substring \"Reg\" and substring \"ie\" in their full name remain."
   ]
  },
  {
   "cell_type": "code",
   "execution_count": 66,
   "metadata": {},
   "outputs": [],
   "source": [
    "mask1 = df.get(\"Name\").str.contains(\"ie\")\n",
    "mask2 = df.get(\"Name\").str.contains(\"Reg\")\n",
    "df[mask1 & mask2]"
   ]
  },
  {
   "cell_type": "markdown",
   "metadata": {},
   "source": [
    "### Why did we have just 9 points instead of 10?\n",
    "\n",
    "### Because we had 0 indexing :)"
   ]
  },
  {
   "cell_type": "markdown",
   "metadata": {},
   "source": [
    "# Top 8 Possible Pitfalls & Things to Keep in Mind"
   ]
  },
  {
   "cell_type": "markdown",
   "metadata": {},
   "source": [
    "## 0) Difference between & and \"and\"\n",
    "\n",
    "Always use \"and\" with conditionals, always use & with boolean arrays."
   ]
  },
  {
   "cell_type": "code",
   "execution_count": 67,
   "metadata": {},
   "outputs": [],
   "source": [
    "True and False"
   ]
  },
  {
   "cell_type": "code",
   "execution_count": 1,
   "metadata": {},
   "outputs": [],
   "source": [
    "np.array([True, False, True]) & np.array([False, False, True])"
   ]
  },
  {
   "cell_type": "code",
   "execution_count": 69,
   "metadata": {},
   "outputs": [],
   "source": [
    "np.array([True, False, True]) and np.array([False, False, False]) # don't do this!"
   ]
  },
  {
   "cell_type": "markdown",
   "metadata": {},
   "source": [
    "## 1) Parentheses when combining conditionals:"
   ]
  },
  {
   "cell_type": "code",
   "execution_count": 70,
   "metadata": {},
   "outputs": [],
   "source": [
    "df[df.get(\"Age\") >= 25 & df.get(\"Points\") >= 2000]"
   ]
  },
  {
   "cell_type": "code",
   "execution_count": 71,
   "metadata": {},
   "outputs": [],
   "source": [
    "df[(df.get(\"Age\") >= 25) & (df.get(\"Points\") >= 1800)]"
   ]
  },
  {
   "cell_type": "markdown",
   "metadata": {},
   "source": [
    "## 2) Column names are meaningless after a `groupby` and count!"
   ]
  },
  {
   "cell_type": "code",
   "execution_count": 72,
   "metadata": {
    "scrolled": true
   },
   "outputs": [],
   "source": [
    "df.groupby(\"Team\").count()"
   ]
  },
  {
   "cell_type": "code",
   "execution_count": 73,
   "metadata": {},
   "outputs": [],
   "source": [
    "# Has no relation to the actual \"Steals\" and \"Blocks\" columns\n",
    "df.groupby(\"Team\").count().get([\"Steals\", \"Blocks\"])"
   ]
  },
  {
   "cell_type": "markdown",
   "metadata": {},
   "source": [
    "## 3) Reset index, especially after grouping with multiple columns."
   ]
  },
  {
   "cell_type": "code",
   "execution_count": 74,
   "metadata": {},
   "outputs": [],
   "source": [
    "(df_new\n",
    " .groupby([\"Team\", \"Age_Group\"])\n",
    " .count()\n",
    " .reset_index()\n",
    ")"
   ]
  },
  {
   "cell_type": "markdown",
   "metadata": {},
   "source": [
    "## 4) `iloc[]` vs `loc[]` vs array indexing`[]`"
   ]
  },
  {
   "cell_type": "code",
   "execution_count": 75,
   "metadata": {},
   "outputs": [],
   "source": [
    "# Before using loc, make sure of what type of index you have:\n",
    "df.index"
   ]
  },
  {
   "cell_type": "code",
   "execution_count": 76,
   "metadata": {},
   "outputs": [],
   "source": [
    "df = df.set_index(\"Name\")"
   ]
  },
  {
   "cell_type": "code",
   "execution_count": 77,
   "metadata": {},
   "outputs": [],
   "source": [
    "df.get(\"Age\").loc[\"Stephen Curry\"]"
   ]
  },
  {
   "cell_type": "code",
   "execution_count": 78,
   "metadata": {},
   "outputs": [],
   "source": [
    "df.get(\"Age\").iloc[2]"
   ]
  },
  {
   "cell_type": "code",
   "execution_count": 79,
   "metadata": {},
   "outputs": [],
   "source": [
    "df.index[2]"
   ]
  },
  {
   "cell_type": "markdown",
   "metadata": {},
   "source": [
    "## 5) Not specifying column while sorting table\n",
    "\n",
    "Wrong: `df = df.sort_values(ascending = False)` \n",
    "\n",
    "Correct: `df = df.sort_values(by = column_name, ascending = False)` "
   ]
  },
  {
   "cell_type": "markdown",
   "metadata": {},
   "source": [
    "## 6) Trying to get the index using .get() instead of .index"
   ]
  },
  {
   "cell_type": "code",
   "execution_count": 80,
   "metadata": {
    "scrolled": true
   },
   "outputs": [],
   "source": [
    "# df.get(\"Name\")\n",
    "df.index"
   ]
  },
  {
   "cell_type": "markdown",
   "metadata": {},
   "source": [
    "# 7) Using df.drop with missing argument"
   ]
  },
  {
   "cell_type": "markdown",
   "metadata": {},
   "source": [
    "`df.drop(columns = column_name)` without columns, for example `df.drop(column_name)` is wrong."
   ]
  },
  {
   "cell_type": "code",
   "execution_count": 81,
   "metadata": {},
   "outputs": [],
   "source": [
    "# df.drop(\"Points\")\n",
    "df.drop(columns = \"Points\")"
   ]
  },
  {
   "cell_type": "code",
   "execution_count": null,
   "metadata": {},
   "outputs": [],
   "source": []
  }
 ],
 "metadata": {
  "kernelspec": {
   "display_name": "Python 3",
   "language": "python",
   "name": "python3"
  },
  "language_info": {
   "codemirror_mode": {
    "name": "ipython",
    "version": 3
   },
   "file_extension": ".py",
   "mimetype": "text/x-python",
   "name": "python",
   "nbconvert_exporter": "python",
   "pygments_lexer": "ipython3",
   "version": "3.8.5"
  }
 },
 "nbformat": 4,
 "nbformat_minor": 4
}
