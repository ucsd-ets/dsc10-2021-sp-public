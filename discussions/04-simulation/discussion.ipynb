{
 "cells": [
  {
   "cell_type": "markdown",
   "metadata": {
    "slideshow": {
     "slide_type": "slide"
    }
   },
   "source": [
    "# DSC 10 Discussion Week 4\n",
    "---\n",
    "\n",
    "Welcome to Discussion 4!\n",
    "\n",
    "Here's a quick rundown of topics for this week:\n",
    "\n",
    "- **Merge**: \"cross-reference\" tables - remember the coffee example from class?\n",
    "\n",
    "- **GroupBy** : group data entries together by column value - we can also specify multiple columns!\n",
    "\n",
    "- **Conditionals** : if statements\n",
    "\n",
    "- **Iteration** : for loops\n",
    "\n",
    "- **Simulation** : probability experiments\n",
    "\n",
    "You can find additional help on these topics in the course [textbook](https://eldridgejm.github.io/dive_into_data_science/front.html).\n",
    "\n",
    "[Here](https://ucsd-ets.github.io/dsc10-2020-fa/published/default/reference/babypandas-reference.pdf) is a pointer to that reference sheet we saw last time.\n",
    "\n",
    "<img src=\"data/panda_tree.jpg\" width=\"1000\">\n"
   ]
  },
  {
   "cell_type": "code",
   "execution_count": 1,
   "metadata": {
    "slideshow": {
     "slide_type": "skip"
    }
   },
   "outputs": [],
   "source": [
    "import babypandas as bpd\n",
    "import numpy as np\n",
    "\n",
    "import otter\n",
    "grader = otter.Notebook()\n",
    "\n",
    "from notebook.services.config import ConfigManager\n",
    "\n",
    "cm = ConfigManager()\n",
    "cm.update(\n",
    "    \"livereveal\", {\n",
    "        'width': 1500,\n",
    "        'height': 700,\n",
    "        \"scroll\": True,\n",
    "})"
   ]
  },
  {
   "cell_type": "markdown",
   "metadata": {
    "slideshow": {
     "slide_type": "slide"
    }
   },
   "source": [
    "# College Scorecard\n",
    "\n",
    "### A wild dataset has appeared!\n",
    "\n",
    "Check out some interactions with the dataset here --> http://collegescorecard.ed.gov"
   ]
  },
  {
   "cell_type": "code",
   "execution_count": 41,
   "metadata": {},
   "outputs": [],
   "source": [
    "colleges = bpd.read_csv('data/csc_basic.csv').set_index('UNITID')\n",
    "colleges"
   ]
  },
  {
   "cell_type": "markdown",
   "metadata": {
    "deletable": false,
    "editable": false,
    "slideshow": {
     "slide_type": "slide"
    }
   },
   "source": [
    "# Question 1.1 (review)\n",
    "\n",
    "Which state has the most colleges/universities? (save the state abbreviation)\n",
    "\n",
    "<!--\n",
    "BEGIN QUESTION\n",
    "name: q11\n",
    "-->"
   ]
  },
  {
   "cell_type": "code",
   "execution_count": 42,
   "metadata": {
    "slideshow": {
     "slide_type": "slide"
    }
   },
   "outputs": [],
   "source": [
    "...\n",
    "state_most_colleges"
   ]
  },
  {
   "cell_type": "markdown",
   "metadata": {},
   "source": [
    "# State Population\n",
    "\n",
    "**Another wild dataset has appeared!**\n",
    "\n",
    "We'll need this data for the next question."
   ]
  },
  {
   "cell_type": "code",
   "execution_count": 4,
   "metadata": {},
   "outputs": [],
   "source": [
    "pops = bpd.read_csv('data/state-population.csv')\n",
    "pops"
   ]
  },
  {
   "cell_type": "markdown",
   "metadata": {
    "deletable": false,
    "editable": false,
    "slideshow": {
     "slide_type": "slide"
    }
   },
   "source": [
    "# Question 1.2\n",
    "\n",
    "Which state has the largest number of colleges *per person*?\n",
    "\n",
    "HINT: Play around with the old dataset and this new dataset then use ```.merge()``` \n",
    "\n",
    "<!--\n",
    "BEGIN QUESTION\n",
    "name: q12\n",
    "-->"
   ]
  },
  {
   "cell_type": "code",
   "execution_count": 5,
   "metadata": {},
   "outputs": [],
   "source": [
    "# get a DataFrame of colleges_per_state\n",
    "colleges_per_state = ...\n",
    "colleges_per_state"
   ]
  },
  {
   "cell_type": "code",
   "execution_count": 6,
   "metadata": {},
   "outputs": [],
   "source": [
    "# get a DataFrame of pops_by_state\n",
    "...\n",
    "pops_by_state"
   ]
  },
  {
   "cell_type": "code",
   "execution_count": 7,
   "metadata": {},
   "outputs": [],
   "source": [
    "# now merge them!\n",
    "...\n",
    "colleges_with_pops"
   ]
  },
  {
   "cell_type": "code",
   "execution_count": 8,
   "metadata": {},
   "outputs": [],
   "source": [
    "# calculate a new per_person column\n",
    "...\n",
    "per_person"
   ]
  },
  {
   "cell_type": "code",
   "execution_count": 9,
   "metadata": {},
   "outputs": [],
   "source": [
    "...\n",
    "largest_colleges_per_person"
   ]
  },
  {
   "cell_type": "markdown",
   "metadata": {
    "deletable": false,
    "editable": false,
    "slideshow": {
     "slide_type": "slide"
    }
   },
   "source": [
    "# Question 1.3\n",
    "\n",
    "What if we had set the index of `pops_by_state`?\n",
    "\n",
    "<!--\n",
    "BEGIN QUESTION\n",
    "name: q13\n",
    "-->"
   ]
  },
  {
   "cell_type": "code",
   "execution_count": 10,
   "metadata": {},
   "outputs": [],
   "source": [
    "pops_by_state_with_index = ...\n",
    "pops_by_state_with_index"
   ]
  },
  {
   "cell_type": "code",
   "execution_count": 11,
   "metadata": {},
   "outputs": [],
   "source": [
    "# merge this with colleges_by_state\n",
    "\n",
    "...\n",
    "colleges_with_pops_by_index"
   ]
  },
  {
   "cell_type": "code",
   "execution_count": 12,
   "metadata": {},
   "outputs": [],
   "source": [
    "# calculate a new per_person column\n",
    "\n",
    "...\n",
    "per_person_with_index"
   ]
  },
  {
   "cell_type": "code",
   "execution_count": 13,
   "metadata": {},
   "outputs": [],
   "source": [
    "...\n",
    "largest_colleges_per_person_with_index"
   ]
  },
  {
   "cell_type": "markdown",
   "metadata": {
    "deletable": false,
    "editable": false,
    "slideshow": {
     "slide_type": "slide"
    }
   },
   "source": [
    "# Question 1.4\n",
    "\n",
    "The `preddeg` column specifies the primary degree type offered (Associates, Bachelors, etc.) How many institutions of each type does each state have?\n",
    "\n",
    "<!--\n",
    "BEGIN QUESTION\n",
    "name: q14\n",
    "-->"
   ]
  },
  {
   "cell_type": "code",
   "execution_count": 14,
   "metadata": {
    "slideshow": {
     "slide_type": "slide"
    }
   },
   "outputs": [],
   "source": [
    "count_institute_type = ...\n",
    "count_institute_type"
   ]
  },
  {
   "cell_type": "code",
   "execution_count": null,
   "metadata": {
    "deletable": false,
    "editable": false
   },
   "outputs": [],
   "source": [
    "grader.check(\"q14\")"
   ]
  },
  {
   "cell_type": "markdown",
   "metadata": {
    "deletable": false,
    "editable": false,
    "slideshow": {
     "slide_type": "slide"
    }
   },
   "source": [
    "# Question 1.5\n",
    "\n",
    "Suppose that a college is considered large if it has more than 15000 undergrads, \"medium\" if it has more than 5000 but <= 15000, \"small\" if it has more than 100 but <= 5000, and \"tiny\" if it has <= than 100 students. Write a function `college_size` which takes in a number of undergrads and returns a string (\"tiny\", \"small\", \"medium\", \"large\").\n",
    "\n",
    "\n",
    "<!--\n",
    "BEGIN QUESTION\n",
    "name: q15\n",
    "-->"
   ]
  },
  {
   "cell_type": "code",
   "execution_count": 16,
   "metadata": {},
   "outputs": [],
   "source": []
  },
  {
   "cell_type": "code",
   "execution_count": null,
   "metadata": {
    "deletable": false,
    "editable": false
   },
   "outputs": [],
   "source": [
    "grader.check(\"q15\")"
   ]
  },
  {
   "cell_type": "markdown",
   "metadata": {
    "slideshow": {
     "slide_type": "slide"
    }
   },
   "source": [
    "# College Scorecard with Earnings\n",
    "\n",
    "### What? The dataset is evolving!\n",
    "\n",
    "Here we see a bit more info about all of our colleges."
   ]
  },
  {
   "cell_type": "code",
   "execution_count": 18,
   "metadata": {},
   "outputs": [],
   "source": [
    "with_earnings = bpd.read_csv('data/csc_financials.txt')\n",
    "with_earnings"
   ]
  },
  {
   "cell_type": "markdown",
   "metadata": {
    "deletable": false,
    "editable": false,
    "slideshow": {
     "slide_type": "slide"
    }
   },
   "source": [
    "# Question 1.6\n",
    "\n",
    "What is the median earnings `MD_EARN_WNE_P10` amount for UCSD graduates?\n",
    "\n",
    "\n",
    "<!--\n",
    "BEGIN QUESTION\n",
    "name: q16\n",
    "-->"
   ]
  },
  {
   "cell_type": "code",
   "execution_count": 19,
   "metadata": {},
   "outputs": [],
   "source": [
    "...\n",
    "\n",
    "median_earnings_UCSD"
   ]
  },
  {
   "cell_type": "code",
   "execution_count": null,
   "metadata": {
    "deletable": false,
    "editable": false
   },
   "outputs": [],
   "source": [
    "grader.check(\"q16\")"
   ]
  },
  {
   "cell_type": "markdown",
   "metadata": {
    "slideshow": {
     "slide_type": "slide"
    }
   },
   "source": [
    "# Part 2 : Cards\n",
    "\n",
    "The next few questions will be about a standard deck of cards"
   ]
  },
  {
   "cell_type": "code",
   "execution_count": 21,
   "metadata": {},
   "outputs": [],
   "source": [
    "# Create a deck of cards as a list\n",
    "\n",
    "values = [2, 3, 4, 5, 6, 7, 8, 9, 10, 'J', 'Q', 'K', 'A']\n",
    "suits = ['hearts', 'diamonds', 'clubs', 'spades']\n",
    "\n",
    "ALL_CARDS = []\n",
    "for value in values:\n",
    "    for suit in suits:\n",
    "        card = str(value) + ' of ' + suit\n",
    "        ALL_CARDS.append(card)"
   ]
  },
  {
   "cell_type": "code",
   "execution_count": 22,
   "metadata": {
    "scrolled": true
   },
   "outputs": [],
   "source": [
    "ALL_CARDS"
   ]
  },
  {
   "cell_type": "markdown",
   "metadata": {
    "deletable": false,
    "editable": false,
    "slideshow": {
     "slide_type": "slide"
    }
   },
   "source": [
    "# Question 2.1\n",
    "\n",
    "Simulate drawing 5 cards *without replacement*\n",
    "\n",
    "<!--\n",
    "BEGIN QUESTION\n",
    "name: q21\n",
    "-->"
   ]
  },
  {
   "cell_type": "code",
   "execution_count": 23,
   "metadata": {},
   "outputs": [],
   "source": [
    "..."
   ]
  },
  {
   "cell_type": "markdown",
   "metadata": {
    "deletable": false,
    "editable": false,
    "slideshow": {
     "slide_type": "slide"
    }
   },
   "source": [
    "# Question 2.2\n",
    "\n",
    "Simulate drawing 5 cards *with* replacement\n",
    "<!--\n",
    "BEGIN QUESTION\n",
    "name: q22\n",
    "-->"
   ]
  },
  {
   "cell_type": "code",
   "execution_count": 24,
   "metadata": {},
   "outputs": [],
   "source": [
    "..."
   ]
  },
  {
   "cell_type": "markdown",
   "metadata": {
    "deletable": false,
    "editable": false,
    "slideshow": {
     "slide_type": "slide"
    }
   },
   "source": [
    "# Question 2.3\n",
    "\n",
    "Make a function ```is_card_clubs(card)``` which, given a single card, determines if that card is a club.\n",
    "\n",
    "<!--\n",
    "BEGIN QUESTION\n",
    "name: q11\n",
    "-->"
   ]
  },
  {
   "cell_type": "code",
   "execution_count": 25,
   "metadata": {},
   "outputs": [],
   "source": [
    "def is_card_clubs(card):\n",
    "..."
   ]
  },
  {
   "cell_type": "code",
   "execution_count": null,
   "metadata": {
    "deletable": false,
    "editable": false
   },
   "outputs": [],
   "source": [
    "grader.check(\"q11\")"
   ]
  },
  {
   "cell_type": "markdown",
   "metadata": {
    "deletable": false,
    "editable": false,
    "slideshow": {
     "slide_type": "slide"
    }
   },
   "source": [
    "# Question 2.4\n",
    "\n",
    "Make a function `number_of_suit(cards, suit)` which, given a list of cards, counts the number of cards matching the suit.\n",
    "\n",
    "<!--\n",
    "BEGIN QUESTION\n",
    "name: q24\n",
    "-->"
   ]
  },
  {
   "cell_type": "code",
   "execution_count": 27,
   "metadata": {},
   "outputs": [],
   "source": [
    "def number_of_suit(cards, suit):\n",
    "..."
   ]
  },
  {
   "cell_type": "markdown",
   "metadata": {
    "deletable": false,
    "editable": false,
    "slideshow": {
     "slide_type": "slide"
    }
   },
   "source": [
    "# Question 2.5\n",
    "\n",
    "What is the probability that a hand of 5 cards, drawn *without* replacement, has 2 or more clubs?\n",
    "\n",
    "1. Figure out how to run one experiment (put it in a function, ex: ```experiment()```). \n",
    "2. Run the experiment a bunch of times (use a for loop!).\n",
    "3. Calculate the proportion of times that the thing is true.\n",
    "\n",
    "<!--\n",
    "BEGIN QUESTION\n",
    "name: q25\n",
    "-->"
   ]
  },
  {
   "cell_type": "markdown",
   "metadata": {
    "slideshow": {
     "slide_type": "slide"
    }
   },
   "source": [
    "### 1. Run one experiment"
   ]
  },
  {
   "cell_type": "code",
   "execution_count": 28,
   "metadata": {
    "slideshow": {
     "slide_type": "-"
    }
   },
   "outputs": [],
   "source": [
    "def experiment():\n",
    "..."
   ]
  },
  {
   "cell_type": "markdown",
   "metadata": {
    "slideshow": {
     "slide_type": "slide"
    }
   },
   "source": [
    "### 2. Run the experiment a bunch of times\n",
    "\n",
    "Start by running it 1000 times"
   ]
  },
  {
   "cell_type": "code",
   "execution_count": 29,
   "metadata": {},
   "outputs": [],
   "source": [
    "..."
   ]
  },
  {
   "cell_type": "markdown",
   "metadata": {
    "slideshow": {
     "slide_type": "slide"
    }
   },
   "source": [
    "### 3. Calculate the probability\n",
    "\n",
    "That is, what proportion of times did we see >= 2 clubs?"
   ]
  },
  {
   "cell_type": "code",
   "execution_count": 30,
   "metadata": {},
   "outputs": [],
   "source": [
    "..."
   ]
  },
  {
   "cell_type": "markdown",
   "metadata": {
    "deletable": false,
    "editable": false,
    "slideshow": {
     "slide_type": "slide"
    }
   },
   "source": [
    "# Question 2.6\n",
    "\n",
    "What is the probability that all of the cards in that hand are clubs?\n",
    "\n",
    "<!--\n",
    "BEGIN QUESTION\n",
    "name: q26\n",
    "-->"
   ]
  },
  {
   "cell_type": "code",
   "execution_count": 31,
   "metadata": {},
   "outputs": [],
   "source": [
    "..."
   ]
  },
  {
   "cell_type": "markdown",
   "metadata": {
    "deletable": false,
    "editable": false,
    "slideshow": {
     "slide_type": "slide"
    }
   },
   "source": [
    "# Question 2.7\n",
    "\n",
    "What is the probability of getting all red cards when drawing 5 cards without replacement?\n",
    "\n",
    "HINT: Follow the same structure as we did before\n",
    "\n",
    "<!--\n",
    "BEGIN QUESTION\n",
    "name: q27\n",
    "-->"
   ]
  },
  {
   "cell_type": "code",
   "execution_count": 32,
   "metadata": {},
   "outputs": [],
   "source": [
    "..."
   ]
  },
  {
   "cell_type": "code",
   "execution_count": 33,
   "metadata": {},
   "outputs": [],
   "source": [
    "..."
   ]
  },
  {
   "cell_type": "code",
   "execution_count": 34,
   "metadata": {},
   "outputs": [],
   "source": [
    "..."
   ]
  },
  {
   "cell_type": "code",
   "execution_count": 35,
   "metadata": {
    "scrolled": true
   },
   "outputs": [],
   "source": [
    "..."
   ]
  },
  {
   "cell_type": "code",
   "execution_count": 36,
   "metadata": {},
   "outputs": [],
   "source": [
    "grader.check_all()"
   ]
  },
  {
   "cell_type": "code",
   "execution_count": null,
   "metadata": {},
   "outputs": [],
   "source": []
  }
 ],
 "metadata": {
  "celltoolbar": "Slideshow",
  "kernelspec": {
   "display_name": "Python 3",
   "language": "python",
   "name": "python3"
  },
  "language_info": {
   "codemirror_mode": {
    "name": "ipython",
    "version": 3
   },
   "file_extension": ".py",
   "mimetype": "text/x-python",
   "name": "python",
   "nbconvert_exporter": "python",
   "pygments_lexer": "ipython3",
   "version": "3.8.5"
  }
 },
 "nbformat": 4,
 "nbformat_minor": 2
}
