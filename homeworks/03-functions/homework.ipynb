{
 "cells": [
  {
   "cell_type": "markdown",
   "metadata": {},
   "source": [
    "# Homework 3: Functions\n",
    "\n",
    "## Due Friday, April 23th at 11:59pm\n",
    "\n",
    "Welcome to Homework 3! This week, we will go over defining functions, histograms, and exploring data. You can find additional help on these topics in [Chapter 02](https://eldridgejm.github.io/dive_into_data_science/front.html) of the textbook."
   ]
  },
  {
   "cell_type": "markdown",
   "metadata": {},
   "source": [
    "### Instructions\n",
    "\n",
    "This assignment is due Friday, April 23th at 11:59pm. You are given seven slip days thoughout the quarter which can extend the deadline by one day. See the syllabus for more details. With the exception of using slip days, late work will not be accepted unless you have made special arrangements with your instructor.\n",
    "\n",
    "**Important**: The `otter` tests don't usually tell you that your answer is correct. More often, they help catch careless mistakes. It's up to you to ensure that your answer is correct. If you're not sure, ask someone (not for the answer, but for some guidance about your approach).\n",
    "\n",
    "Remember that you may work in pairs for this assignment! If you work in a pair, you should submit one notebook to Gradescope for the both of you.\n",
    "\n",
    "Directly sharing answers between groups is not okay, but discussing problems with the course staff or with other students is encouraged. \n",
    "\n",
    "You should start early so that you have time to get help if you're stuck. A calendar with lab hour times and locations appears on [the course webpage](http://dsc10.com)."
   ]
  },
  {
   "cell_type": "code",
   "execution_count": 1,
   "metadata": {},
   "outputs": [],
   "source": [
    "# please don't change this cell, but do make sure to run it\n",
    "import babypandas as bpd\n",
    "import matplotlib.pyplot as plt\n",
    "import numpy as np\n",
    "import otter\n",
    "grader = otter.Notebook()"
   ]
  },
  {
   "cell_type": "markdown",
   "metadata": {},
   "source": [
    "## 1. Avocadopocalypse"
   ]
  },
  {
   "cell_type": "markdown",
   "metadata": {},
   "source": [
    "In early 2017, reduced harvests and labor strikes caused avocado production in Mexico, Peru, and California to  dramatically decrease. In this problem we will investigate how and where prices fluctuated in response to the \"avocadopocalypse\".\n",
    "\n",
    "The source of the avocado price data is [here](https://urldefense.com/v3/__http://www.hassavocadoboard.com/retail/volume-and-price-data__;!!Mih3wA!UQwVlo9PvACY7t4CCustkKZq0RfPE-hGk1xDpoo20dpsixLTa8OgXRoiGUehMic$ ). We will use a subset of the data. The data has the following columns:\n",
    "\n",
    "|Column|Description|\n",
    "|------|-----------|\n",
    "|Date|The date on which a price was recorded in YEAR-MONTH format|\n",
    "|Type|The type of avocado. Either \"conventional\" or \"organic\".|\n",
    "|Region|Where the price was recorded.|\n",
    "|Price|The average avocado price for that time period/location.|\n",
    "|Volume|The number of avocados sold (in thousands).|"
   ]
  },
  {
   "cell_type": "markdown",
   "metadata": {},
   "source": [
    "**Question 1.1.** The data are in a CSV called `avocado.csv`. Read this file into a table named `avocado`. There is not good columns to use as the index, so don't set one!"
   ]
  },
  {
   "cell_type": "code",
   "execution_count": 2,
   "metadata": {},
   "outputs": [],
   "source": [
    "avocado = ...\n",
    "avocado"
   ]
  },
  {
   "cell_type": "code",
   "execution_count": null,
   "metadata": {
    "deletable": false,
    "editable": false
   },
   "outputs": [],
   "source": [
    "grader.check(\"q1_1\")"
   ]
  },
  {
   "cell_type": "markdown",
   "metadata": {},
   "source": [
    "It might look like the `Date` column would make a good index, but it turns out that its entries are not unique! We can see this using the `.describe()` method, which gives us some useful information about a column:"
   ]
  },
  {
   "cell_type": "code",
   "execution_count": 5,
   "metadata": {},
   "outputs": [],
   "source": [
    "avocado.get('Date').describe()"
   ]
  },
  {
   "cell_type": "markdown",
   "metadata": {},
   "source": [
    "We see that although there are 4134 entries, only 39 of them are unique. This is because the same date will appear once for each city in the data set."
   ]
  },
  {
   "cell_type": "markdown",
   "metadata": {},
   "source": [
    "**Question 1.2.** Assign `cheapest` to the name of the region which had the cheapest avocados (of any type, and any date), and similarly assign `most_expensive` to the name of the region with the most expensive avocados (of any type, and any date)."
   ]
  },
  {
   "cell_type": "code",
   "execution_count": 6,
   "metadata": {},
   "outputs": [],
   "source": [
    "cheapest = ...\n",
    "most_expensive = ..."
   ]
  },
  {
   "cell_type": "code",
   "execution_count": null,
   "metadata": {
    "deletable": false,
    "editable": false
   },
   "outputs": [],
   "source": [
    "grader.check(\"q1_2\")"
   ]
  },
  {
   "cell_type": "markdown",
   "metadata": {},
   "source": [
    "**Question 1.3.** Avocados are sold in two types: organic and conventional. Make a table named `organic` containing only the data for organic avocados, and a table named `conventional` for conventional avocados."
   ]
  },
  {
   "cell_type": "code",
   "execution_count": 10,
   "metadata": {},
   "outputs": [],
   "source": [
    "organic = ...\n",
    "conventional = ..."
   ]
  },
  {
   "cell_type": "code",
   "execution_count": null,
   "metadata": {
    "deletable": false,
    "editable": false
   },
   "outputs": [],
   "source": [
    "grader.check(\"q1_3\")"
   ]
  },
  {
   "cell_type": "markdown",
   "metadata": {},
   "source": [
    "**Question 1.4.** Create a table named `sd_total` which contains one column, `Volume`. The `Volume` column should be equal to the total volume of avocados (organic + conventional) sold in San Diego for each date. The index of your table should contain the dates.\n",
    "\n",
    "*Hint*: if you do this right, you won't need to use `.set_index()` to make the date the row label.\n",
    "\n",
    "*Hint*: Are the region names separated by a space?"
   ]
  },
  {
   "cell_type": "code",
   "execution_count": 16,
   "metadata": {},
   "outputs": [],
   "source": [
    "sd_total = ...\n",
    "sd_total"
   ]
  },
  {
   "cell_type": "code",
   "execution_count": null,
   "metadata": {
    "deletable": false,
    "editable": false
   },
   "outputs": [],
   "source": [
    "grader.check(\"q1_4\")"
   ]
  },
  {
   "cell_type": "markdown",
   "metadata": {},
   "source": [
    "**Question 1.5.** Create a table named `median_price` containing one column named `MedianPrice` containing the median price of **conventional avocados** sold on each date. Your table should have one row for each date, and the row label should be the date."
   ]
  },
  {
   "cell_type": "code",
   "execution_count": 20,
   "metadata": {},
   "outputs": [],
   "source": [
    "median_price = ...\n",
    "median_price"
   ]
  },
  {
   "cell_type": "code",
   "execution_count": null,
   "metadata": {
    "deletable": false,
    "editable": false
   },
   "outputs": [],
   "source": [
    "grader.check(\"q1_5\")"
   ]
  },
  {
   "cell_type": "markdown",
   "metadata": {},
   "source": [
    "**Question 1.6.** Plot the median price of conventional avocados in the entire US as a function of date. Does the data support the \"avocadopocalypse\"; that is, were prices higher in 2017? Describe how you could use the given data to investigate the *reason* that prices were higher."
   ]
  },
  {
   "cell_type": "markdown",
   "metadata": {
    "deletable": false,
    "editable": false
   },
   "source": [
    "<!-- BEGIN QUESTION -->\n",
    "\n",
    "<!--\n",
    "BEGIN QUESTION\n",
    "name: q1_6\n",
    "manual: true\n",
    "-->"
   ]
  },
  {
   "cell_type": "code",
   "execution_count": 23,
   "metadata": {},
   "outputs": [],
   "source": [
    "# Make your plot here\n",
    "..."
   ]
  },
  {
   "cell_type": "markdown",
   "metadata": {},
   "source": [
    "_Type your answer here, replacing this text._"
   ]
  },
  {
   "cell_type": "markdown",
   "metadata": {},
   "source": [
    "<!-- END QUESTION -->\n",
    "\n",
    "\n",
    "\n",
    "## 2. Power Outages\n"
   ]
  },
  {
   "cell_type": "markdown",
   "metadata": {},
   "source": [
    "The dataset below contains information about power outages that occurred in North America between 2000 to 2014. The data is a subset of the data available [here](https://urldefense.com/v3/__https://www.kaggle.com/autunno/15-years-of-power-outages__;!!Mih3wA!UQwVlo9PvACY7t4CCustkKZq0RfPE-hGk1xDpoo20dpsixLTa8OgXRoiwcEkHHY$ ).  Run the next cell to load the data."
   ]
  },
  {
   "cell_type": "code",
   "execution_count": 24,
   "metadata": {
    "scrolled": false
   },
   "outputs": [],
   "source": [
    "# just run this cell\n",
    "power = bpd.read_csv(\"data/powerdata.csv\")\n",
    "power"
   ]
  },
  {
   "cell_type": "markdown",
   "metadata": {},
   "source": [
    "**Question 2.1.** Find the proportion of all power outages that occured in the year 2013. Save your answer to the variable `outage_2013`."
   ]
  },
  {
   "cell_type": "code",
   "execution_count": 25,
   "metadata": {
    "scrolled": false
   },
   "outputs": [],
   "source": [
    "outage_2013 = ...\n",
    "outage_2013"
   ]
  },
  {
   "cell_type": "code",
   "execution_count": null,
   "metadata": {
    "deletable": false,
    "editable": false
   },
   "outputs": [],
   "source": [
    "grader.check(\"q2_1\")"
   ]
  },
  {
   "cell_type": "markdown",
   "metadata": {},
   "source": [
    "**Question 2.2.** Make a horizontal bar chart showing the number of outages per NERC Region. Make sure that the bars are sorted from longest to shortest. You can learn more about what a NERC region is [here](https://www.nerc.com/Pages/default.aspx)."
   ]
  },
  {
   "cell_type": "markdown",
   "metadata": {
    "deletable": false,
    "editable": false
   },
   "source": [
    "<!-- BEGIN QUESTION -->\n",
    "\n",
    "<!--\n",
    "BEGIN QUESTION\n",
    "name: q2_2\n",
    "manual: true\n",
    "-->"
   ]
  },
  {
   "cell_type": "code",
   "execution_count": 28,
   "metadata": {
    "scrolled": true
   },
   "outputs": [],
   "source": [
    "#put your code here\n",
    "..."
   ]
  },
  {
   "cell_type": "markdown",
   "metadata": {},
   "source": [
    "<!-- END QUESTION -->\n",
    "\n",
    "\n",
    "\n",
    "**Question 2.3.** Draw a line plot of the count of power outages by year."
   ]
  },
  {
   "cell_type": "markdown",
   "metadata": {
    "deletable": false,
    "editable": false
   },
   "source": [
    "<!-- BEGIN QUESTION -->\n",
    "\n",
    "<!--\n",
    "BEGIN QUESTION\n",
    "name: q2_3\n",
    "manual: true\n",
    "-->"
   ]
  },
  {
   "cell_type": "code",
   "execution_count": 29,
   "metadata": {
    "scrolled": true
   },
   "outputs": [],
   "source": [
    "#put your code here\n",
    "..."
   ]
  },
  {
   "cell_type": "markdown",
   "metadata": {},
   "source": [
    "<!-- END QUESTION -->\n",
    "\n",
    "\n",
    "\n",
    "**Question 2.4.** We notice that there is a spike in power outages in the year 2011. Let's explore some of the data of the outages in the year 2011. Create a table named `power_2011` which has one column, `Count`, which is a count of the number of times that `Event Description` occured in 2011. The index should contain the event descriptions."
   ]
  },
  {
   "cell_type": "code",
   "execution_count": 30,
   "metadata": {
    "scrolled": false
   },
   "outputs": [],
   "source": [
    "power_2011 = ...\n",
    "power_2011"
   ]
  },
  {
   "cell_type": "code",
   "execution_count": null,
   "metadata": {
    "deletable": false,
    "editable": false
   },
   "outputs": [],
   "source": [
    "grader.check(\"q2_4\")"
   ]
  },
  {
   "cell_type": "markdown",
   "metadata": {},
   "source": [
    "**Question 2.5.** How many outages were there in Texas in 2012?\n",
    "\n",
    "*Hint*: There are many geographic areas in Texas. For instance, \"Central Texas\" is one, \"Texas\" is another."
   ]
  },
  {
   "cell_type": "code",
   "execution_count": 35,
   "metadata": {},
   "outputs": [],
   "source": [
    "texas_outages = ...\n",
    "texas_outages"
   ]
  },
  {
   "cell_type": "code",
   "execution_count": null,
   "metadata": {
    "deletable": false,
    "editable": false
   },
   "outputs": [],
   "source": [
    "grader.check(\"q2_5\")"
   ]
  },
  {
   "cell_type": "markdown",
   "metadata": {},
   "source": [
    "## 3. Defining Functions\n",
    "\n",
    "In this problem we'll define functions for working with coordinates.\n",
    "A coordinate in 2-dimensional space is easily represented with a Python list of length two. For instance, the point $(1,3)$ can be represented as:"
   ]
  },
  {
   "cell_type": "code",
   "execution_count": 38,
   "metadata": {},
   "outputs": [],
   "source": [
    "[1, 3]"
   ]
  },
  {
   "cell_type": "markdown",
   "metadata": {},
   "source": [
    "**Question 3.1.** \n",
    "\n",
    "Define a function named `find_slope` that takes in two coordinates, [x1, y1] and [x2, y2], and returns the slope of the line connecting the two points. Assume x1 and x2 are not equal."
   ]
  },
  {
   "cell_type": "code",
   "execution_count": 39,
   "metadata": {},
   "outputs": [],
   "source": [
    "def find_slope(coordinate_1, coordinate_2):\n",
    "    ..."
   ]
  },
  {
   "cell_type": "code",
   "execution_count": null,
   "metadata": {
    "deletable": false,
    "editable": false
   },
   "outputs": [],
   "source": [
    "grader.check(\"q3_1\")"
   ]
  },
  {
   "cell_type": "markdown",
   "metadata": {},
   "source": [
    "**Question 3.2.** Define a function named `find_intercepts` that takes in two coordinates, [x1, y1] and [x2, y2], and returns the x-intercept and y-intercept of the line connecting the two points. Assume x1 and x2 are not equal and that y1 and y2 are not equal.\n",
    "\n",
    "*Hint*: The `find_slope` function may help you."
   ]
  },
  {
   "cell_type": "code",
   "execution_count": 42,
   "metadata": {},
   "outputs": [],
   "source": [
    "def find_intercepts(coordinate_1, coordinate_2):\n",
    "    ...\n",
    "    return (x_intercept, y_intercept)"
   ]
  },
  {
   "cell_type": "code",
   "execution_count": null,
   "metadata": {
    "deletable": false,
    "editable": false
   },
   "outputs": [],
   "source": [
    "grader.check(\"q3_2\")"
   ]
  },
  {
   "cell_type": "markdown",
   "metadata": {},
   "source": [
    "One of the simplest ways of predicting the future is to assume that change happens linearly. For instance, suppose a person's height at 10 years old is 48 inches, and their height at 14 years old is 53 inches. We can predict their height at 20 years of age by drawing a straight line between (10, 48) and (14, 53), and finding its value at x = 20."
   ]
  },
  {
   "cell_type": "markdown",
   "metadata": {},
   "source": [
    "**Question 3.3.** Define a function named `predict_heights` that takes in two coordinates [age_1, height_1] and [age_2, height_2] and the age to predict the person's height for. Return the predicted height. Assume age_1 and age_2 are not equal. Assume height_1 and height_2 are not equal."
   ]
  },
  {
   "cell_type": "code",
   "execution_count": 47,
   "metadata": {},
   "outputs": [],
   "source": [
    "def predict_heights(age_and_height_1, age_and_height_2, age_to_predict):\n",
    "    ..."
   ]
  },
  {
   "cell_type": "code",
   "execution_count": null,
   "metadata": {
    "deletable": false,
    "editable": false
   },
   "outputs": [],
   "source": [
    "grader.check(\"q3_4\")"
   ]
  },
  {
   "cell_type": "markdown",
   "metadata": {},
   "source": [
    "**Question 3.4.** Is this a good way of predicting heights? When might it give poor results?"
   ]
  },
  {
   "cell_type": "markdown",
   "metadata": {
    "deletable": false,
    "editable": false
   },
   "source": [
    "<!-- BEGIN QUESTION -->\n",
    "\n",
    "<!--\n",
    "BEGIN QUESTION\n",
    "name: q3_4\n",
    "manual: true\n",
    "-->"
   ]
  },
  {
   "cell_type": "markdown",
   "metadata": {},
   "source": [
    "_Type your answer here, replacing this text._"
   ]
  },
  {
   "cell_type": "markdown",
   "metadata": {},
   "source": [
    "<!-- END QUESTION -->\n",
    "\n",
    "\n",
    "\n",
    "## 4. Olympic Medals"
   ]
  },
  {
   "cell_type": "markdown",
   "metadata": {},
   "source": [
    "In this question, we will analyze data on Olympic athletes who won medals in the Winter Olympic Games from 1896-2014. You can find the data [here](https://www.kaggle.com/the-guardian/olympic-games#dictionary.csv)"
   ]
  },
  {
   "cell_type": "markdown",
   "metadata": {},
   "source": [
    "The data is in a CSV file called `winter.csv`. Read this file into a table named `winter`. There is no good index, we will leave it unset."
   ]
  },
  {
   "cell_type": "code",
   "execution_count": 51,
   "metadata": {},
   "outputs": [],
   "source": [
    "winter_data = bpd.read_csv('data/winter.csv')\n",
    "winter_data"
   ]
  },
  {
   "cell_type": "markdown",
   "metadata": {},
   "source": [
    "The `Country` column contains International Olympic Committee (IOC) [country codes](https://olympics.fandom.com/wiki/List_of_IOC_country_codes). We want to convert these country codes into actual country names that everyone can understand.\n",
    "\n",
    "We'll use a Python [dictionary](https://www.tutorialspoint.com/python/python_dictionary.htm) to help us with this conversion. A dictionary is a simple way to map a unique key to a value. For example, the below dictionary maps course codes to course names."
   ]
  },
  {
   "cell_type": "code",
   "execution_count": 52,
   "metadata": {},
   "outputs": [],
   "source": [
    "dsc_courses = {\n",
    "    'DSC 10': 'Principles of Data Science',\n",
    "    'DSC 20': 'Programming and Basic Data Structures for Data Science',\n",
    "    'DSC 30': 'Data Structures and Algorithms for Data Science',\n",
    "    'DSC 40A': 'Theoretical Foundations of Data Science I',\n",
    "    'DSC 40B': 'Theoretical Foundations of Data Science II',\n",
    "    'DSC 80': 'The Practice and Application of Data Science'\n",
    "}"
   ]
  },
  {
   "cell_type": "markdown",
   "metadata": {},
   "source": [
    "We can access the value corresponding to each key using bracket notation."
   ]
  },
  {
   "cell_type": "code",
   "execution_count": 53,
   "metadata": {},
   "outputs": [],
   "source": [
    "dsc10_name = dsc_courses['DSC 10']\n",
    "dsc10_name"
   ]
  },
  {
   "cell_type": "markdown",
   "metadata": {},
   "source": [
    "Here, `DSC 10` is the key and `Principles of Data Science` is the value.\n",
    "\n",
    "Let's use a dictionary to help us with our country code to country name conversion. Below is a dictionary containing country codes as keys and country names as values for each of the countries in our dataset of Winter Olympic medal winners."
   ]
  },
  {
   "cell_type": "code",
   "execution_count": 54,
   "metadata": {},
   "outputs": [],
   "source": [
    "country_codes = {\n",
    " 'USA': 'United States',\n",
    " 'CAN': 'Canada',\n",
    " 'NOR': 'Norway',\n",
    " 'URS': 'Soviet Union',\n",
    " 'FIN': 'Finland',\n",
    " 'SWE': 'Sweden',\n",
    " 'GER': 'Germany',\n",
    " 'SUI': 'Switzerland',\n",
    " 'AUT': 'Austria',\n",
    " 'RUS': 'Russia',\n",
    " 'ITA': 'Italy',\n",
    " 'GDR': 'East Germany',\n",
    " 'TCH': 'Czechoslovakia',\n",
    " 'FRA': 'France',\n",
    " 'NED': 'Netherlands',\n",
    " 'FRG': 'West Germany',\n",
    " 'KOR': 'Korea, South',\n",
    " 'CHN': 'China',\n",
    " 'GBR': 'United Kingdom',\n",
    " 'CZE': 'Czech Republic',\n",
    " 'JPN': 'Japan',\n",
    " 'EUN': 'Unified Team',\n",
    " 'POL': 'Poland',\n",
    " 'EUA': 'United Team of Germany',\n",
    " 'SLO': 'Slovenia',\n",
    " 'AUS': 'Australia',\n",
    " 'BLR': 'Belarus',\n",
    " 'LAT': 'Latvia',\n",
    " 'BEL': 'Belgium',\n",
    " 'HUN': 'Hungary',\n",
    " 'UKR': 'Ukraine',\n",
    " 'CRO': 'Croatia',\n",
    " 'LIE': 'Liechtenstein',\n",
    " 'YUG': 'Yugoslavia',\n",
    " 'EST': 'Estonia',\n",
    " 'KAZ': 'Kazakhstan',\n",
    " 'BUL': 'Bulgaria',\n",
    " 'DEN': 'Denmark',\n",
    " 'SVK': 'Slovakia',\n",
    " 'ROU': 'Romania',\n",
    " 'ESP': 'Spain',\n",
    " 'PRK': 'Korea, North',\n",
    " 'LUX': 'Luxembourg',\n",
    " 'NZL': 'New Zealand',\n",
    " 'UZB': 'Uzbekistan'}"
   ]
  },
  {
   "cell_type": "markdown",
   "metadata": {},
   "source": [
    "**Question 4.1.** Using `country_codes`, define a function named `code_to_country` that takes as input a country code and returns the corresponding country name. (Should be only one line)"
   ]
  },
  {
   "cell_type": "code",
   "execution_count": 55,
   "metadata": {},
   "outputs": [],
   "source": [
    "def code_to_country(code):\n",
    "    ..."
   ]
  },
  {
   "cell_type": "code",
   "execution_count": null,
   "metadata": {
    "deletable": false,
    "editable": false
   },
   "outputs": [],
   "source": [
    "grader.check(\"q4_1\")"
   ]
  },
  {
   "cell_type": "markdown",
   "metadata": {},
   "source": [
    "**Question 4.2.** Using your `code_to_country` function, use `.get(col).apply()` to convert all of the country codes into country names in the `Country` column. Do this without creating an additional column. Store your result in `winter`.\n",
    "\n",
    "*Hint*: Is there a way to use the `.assign` method to *replace* values in these two columns without creating additional columns?"
   ]
  },
  {
   "cell_type": "code",
   "execution_count": 59,
   "metadata": {
    "scrolled": false
   },
   "outputs": [],
   "source": [
    "winter = ...\n",
    "winter"
   ]
  },
  {
   "cell_type": "code",
   "execution_count": null,
   "metadata": {
    "deletable": false,
    "editable": false
   },
   "outputs": [],
   "source": [
    "grader.check(\"q4_2\")"
   ]
  },
  {
   "cell_type": "markdown",
   "metadata": {},
   "source": [
    "**Question 4.3.** \n",
    "Define a function named `lastname_length` that returns the length of the last name of a name. It should take as an input the name of the athlete. Notice that the name consists of the 'lastname, firstname' of the athlete.\n",
    "\n",
    "*Hint:* Use the string function [`.split()`](https://docs.python.org/3/library/stdtypes.html#str.split). This is useful in splitting the name into a lastname and a firstname.\n",
    "\n",
    "*Hint:* Notice that there is a space after the comma. "
   ]
  },
  {
   "cell_type": "code",
   "execution_count": 64,
   "metadata": {},
   "outputs": [],
   "source": [
    "def lastname_length(name):\n",
    "    ..."
   ]
  },
  {
   "cell_type": "code",
   "execution_count": null,
   "metadata": {
    "deletable": false,
    "editable": false
   },
   "outputs": [],
   "source": [
    "grader.check(\"q4_3\")"
   ]
  },
  {
   "cell_type": "markdown",
   "metadata": {},
   "source": [
    "**Question 4.4.** Create a function named `mean_values` that takes as an input the name of a country and returns the mean last name length of the athletes from that country. \n",
    "\n",
    "*Hint:* use the previously defined function!"
   ]
  },
  {
   "cell_type": "code",
   "execution_count": 70,
   "metadata": {},
   "outputs": [],
   "source": [
    "def mean_values(country):\n",
    "    ..."
   ]
  },
  {
   "cell_type": "code",
   "execution_count": null,
   "metadata": {
    "deletable": false,
    "editable": false
   },
   "outputs": [],
   "source": [
    "grader.check(\"q4_4\")"
   ]
  },
  {
   "cell_type": "markdown",
   "metadata": {},
   "source": [
    "**Question 4.5.** \n",
    "Create a table called `last_names` with original columns `Year`, `Sport`, `Athlete` and `Country` and new column `Last_Name_Length` that has the length of the last name, with the shortest name at the top and longest at bottom.\n",
    "\n",
    "*Hint*: Remember that you can create intermediate variables. This is a good time to do so!"
   ]
  },
  {
   "cell_type": "code",
   "execution_count": 75,
   "metadata": {},
   "outputs": [],
   "source": [
    "last_names = ...\n",
    "last_names"
   ]
  },
  {
   "cell_type": "code",
   "execution_count": null,
   "metadata": {
    "deletable": false,
    "editable": false
   },
   "outputs": [],
   "source": [
    "grader.check(\"q4_5\")"
   ]
  },
  {
   "cell_type": "markdown",
   "metadata": {},
   "source": [
    "**Question 4.6.** What is the length of the longest last name? Assign this number to `longest_name_length`. What is the length of the shortest last name? Assign this number to `shortest_name_length`. What is the length difference between the longest and shortest last name? Assign this number to `range_name_length`."
   ]
  },
  {
   "cell_type": "code",
   "execution_count": 80,
   "metadata": {},
   "outputs": [],
   "source": [
    "longest_name_length = ...\n",
    "shortest_name_length = ...\n",
    "range_name_length = ...\n",
    "range_name_length"
   ]
  },
  {
   "cell_type": "code",
   "execution_count": null,
   "metadata": {
    "deletable": false,
    "editable": false
   },
   "outputs": [],
   "source": [
    "grader.check(\"q4_6\")"
   ]
  },
  {
   "cell_type": "markdown",
   "metadata": {},
   "source": [
    "**Question 4.7.** Make a function called `point_total` that takes in a country name (string) and awards points based on olympic medals. The country gets 1 point for every bronze medal, 3 points for every silver and 5 for every gold."
   ]
  },
  {
   "cell_type": "code",
   "execution_count": 87,
   "metadata": {},
   "outputs": [],
   "source": [
    "def point_total(country):\n",
    "    gold = ...\n",
    "    silver = ...\n",
    "    bronze = ...\n",
    "    return gold + silver + bronze"
   ]
  },
  {
   "cell_type": "code",
   "execution_count": null,
   "metadata": {
    "deletable": false,
    "editable": false
   },
   "outputs": [],
   "source": [
    "grader.check(\"q4_7\")"
   ]
  },
  {
   "cell_type": "markdown",
   "metadata": {},
   "source": [
    "**Question 4.8.** Among the five countries listed below, which has the highest point count overall?:\n",
    "\n",
    "1. United States\n",
    "2. Russia\n",
    "3. United Kingdom\n",
    "4. China\n",
    "5. France\n",
    "\n",
    "Save the name of the country as `country` and the number of points as `points`. You can set the value of `country` and `points` by hand."
   ]
  },
  {
   "cell_type": "code",
   "execution_count": 91,
   "metadata": {},
   "outputs": [],
   "source": [
    "...\n",
    "country = ...\n",
    "points = ..."
   ]
  },
  {
   "cell_type": "code",
   "execution_count": null,
   "metadata": {
    "deletable": false,
    "editable": false
   },
   "outputs": [],
   "source": [
    "grader.check(\"q4_8\")"
   ]
  },
  {
   "cell_type": "markdown",
   "metadata": {},
   "source": [
    "**Question 4.9.** Create a horizontal bar chart of the mean last name length by country. Use your chart to answer the question: which country has the shortest mean last name? Write your answer by hand by assigning the country code to `country_shortest_name`."
   ]
  },
  {
   "cell_type": "code",
   "execution_count": 97,
   "metadata": {},
   "outputs": [],
   "source": [
    "...\n",
    "country_shortest_name = ..."
   ]
  },
  {
   "cell_type": "code",
   "execution_count": null,
   "metadata": {
    "deletable": false,
    "editable": false
   },
   "outputs": [],
   "source": [
    "grader.check(\"q4_9\")"
   ]
  },
  {
   "cell_type": "markdown",
   "metadata": {},
   "source": [
    "## 5. Histograms"
   ]
  },
  {
   "cell_type": "markdown",
   "metadata": {},
   "source": [
    "Suppose we have a table called `data` with two numerical columns, \"x\" and \"y\". Consider the following scatter plot, which was generated by calling `data.plot(kind='scatter', x='x', y='y')`:\n",
    "\n",
    "![](data/scatter.png)\n",
    "\n",
    "Now consider these two histograms:\n",
    "\n",
    "**Histogram A**:\n",
    "\n",
    "![](data/hist_one.png)\n",
    "\n",
    "**Histogram B**:\n",
    "\n",
    "![](data/hist_two.png)"
   ]
  },
  {
   "cell_type": "markdown",
   "metadata": {},
   "source": [
    "**Question 5.1.** Which of these two lines of code generated Histogram B?\n",
    " 1. `data.plot(kind='hist', y='x')`\n",
    " 2. `data.plot(kind='hist', y='y')`  \n",
    " \n",
    " Which line generated Histogram B? Assign either `1` or `2` to `which_histogram`."
   ]
  },
  {
   "cell_type": "code",
   "execution_count": 101,
   "metadata": {},
   "outputs": [],
   "source": [
    "which_histogram = ..."
   ]
  },
  {
   "cell_type": "code",
   "execution_count": null,
   "metadata": {
    "deletable": false,
    "editable": false
   },
   "outputs": [],
   "source": [
    "grader.check(\"q5_1\")"
   ]
  },
  {
   "cell_type": "markdown",
   "metadata": {},
   "source": [
    "**Question 5.2.** Suppose we run this line of code:\n",
    "\n",
    "    new_data = bpd.DataFrame().assign(\n",
    "        x = data.get('x') / 2,\n",
    "        y = data.get('y')\n",
    "    )\n",
    "    \n",
    " We then run `new_data.plot(kind = 'hist', y='x')`. What does the new histogram look like (as opposed to `data.plot(kind = 'hist', y='x')` on the same scale)?"
   ]
  },
  {
   "cell_type": "markdown",
   "metadata": {
    "deletable": false,
    "editable": false
   },
   "source": [
    "<!-- BEGIN QUESTION -->\n",
    "\n",
    "<!--\n",
    "BEGIN QUESTION\n",
    "name: q5_2\n",
    "manual: true\n",
    "-->"
   ]
  },
  {
   "cell_type": "markdown",
   "metadata": {},
   "source": [
    "_Type your answer here, replacing this text._"
   ]
  },
  {
   "cell_type": "markdown",
   "metadata": {},
   "source": [
    "<!-- END QUESTION -->\n",
    "\n",
    "\n",
    "\n",
    "**Question 5.3.** According to the histograms above, approximately what percent of points in the scatterplot have an `y` value between 1 and 2 (inclusive)? Return the number (1 - 4) of the correct percentage listed below in the variable `y_between`.\n",
    "\n",
    "1. 25\n",
    "2. 33\n",
    "3. 50\n",
    "4. 100"
   ]
  },
  {
   "cell_type": "code",
   "execution_count": 104,
   "metadata": {},
   "outputs": [],
   "source": [
    "y_between = ..."
   ]
  },
  {
   "cell_type": "code",
   "execution_count": null,
   "metadata": {
    "deletable": false,
    "editable": false
   },
   "outputs": [],
   "source": [
    "grader.check(\"q5_3\")"
   ]
  },
  {
   "cell_type": "markdown",
   "metadata": {},
   "source": [
    "# Finish Line"
   ]
  },
  {
   "cell_type": "markdown",
   "metadata": {},
   "source": [
    "To submit your assignment:\n",
    "\n",
    "1. Select `Kernel -> Restart & Run All` to ensure that you have executed all cells, including the test cells.\n",
    "2. Read through the notebook to make sure everything is fine and all tests passed.\n",
    "3. Run the cell below to run all tests, and make sure that they all pass.\n",
    "4. Download your notebook using `File -> Download as -> Notebook (.ipynb)`, then upload your notebook to Gradescope."
   ]
  },
  {
   "cell_type": "code",
   "execution_count": 107,
   "metadata": {
    "scrolled": false
   },
   "outputs": [],
   "source": [
    "grader.check_all()"
   ]
  }
 ],
 "metadata": {
  "kernelspec": {
   "display_name": "Python 3",
   "language": "python",
   "name": "python3"
  },
  "language_info": {
   "codemirror_mode": {
    "name": "ipython",
    "version": 3
   },
   "file_extension": ".py",
   "mimetype": "text/x-python",
   "name": "python",
   "nbconvert_exporter": "python",
   "pygments_lexer": "ipython3",
   "version": "3.7.4"
  }
 },
 "nbformat": 4,
 "nbformat_minor": 1
}
